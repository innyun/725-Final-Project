{
 "cells": [
  {
   "cell_type": "markdown",
   "id": "711103",
   "metadata": {
    "collapsed": false
   },
   "source": [
    "# Final Project\n",
    "\n",
    "## Title: Automatic Maze Generation with Various Algorithms\n",
    "\n",
    "### Author: Vinny Sun\n",
    "\n"
   ]
  },
  {
   "cell_type": "markdown",
   "id": "1d49bf",
   "metadata": {
    "collapsed": false
   },
   "source": [
    "---\n",
    "\n",
    "Feedback on Abstract:\n",
    "\n",
    "This sounds like a very interesting project! Below are recommendations how to make the notebook reader-friendly:\n",
    "\n",
    "- to be successful, the project should focus in on only one (or at most two) topics; \n",
    "- it would help to start with simple examples that can be computed by hand;\n",
    "- describe the basic idea behind your algorithm in words;\n",
    "- where possible, show the functioning of subcomponents of your algorithm, in addition to the functioning of the whole thing;\n",
    "- the nice thing about Python is that when you look at the docs, every function comes with its source file (look to the right for the link [source]), so you can inspect it, play around with it, use it to explain it etc; \n",
    "- give some relevant citations;\n",
    "\n",
    "---"
   ]
  },
  {
   "cell_type": "markdown",
   "metadata": {},
   "source": [
    "- remove random walls\n",
    "- create mazes\n",
    "- create labyrinths"
   ]
  },
  {
   "cell_type": "markdown",
   "id": "bcbbd0",
   "metadata": {
    "collapsed": false
   },
   "source": [
    "Though the terms labyrinth and maze are generally synonymous in English today, many scholars will differentiate them with the fact labyrinths have no branching paths (they are [unicursal](https://www.oed.com/dictionary/unicursal_adj?tab=meaning_and_use&tl=true)) while mazes have branching paths (they are multicursal). [Labyrinths](https://en.wikipedia.org/wiki/Labyrinth) in particular have over 3000 years of history. However, since they have no branching, they don't make for a very interesting 2D puzzle. On the other hand, [mazes](http://www.unmuseum.org/maze.htm) have a shorter history but are much more interesting as a 2D puzzle. Both labyrinths and mazes can be generated algorithmically in many ways.\n",
    "\n",
    "Inspiration for the ideas and algorithms come from [here](https://weblog.jamisbuck.org/2011/2/7/maze-generation-algorithm-recap), [here](https://en.wikipedia.org/wiki/Maze_generation_algorithm), and [here](https://professor-l.github.io/maze) with ideas for the implementation coming from [here](https://medium.com/@msgold/using-python-to-create-and-solve-mazes-672285723c96).\n"
   ]
  },
  {
   "cell_type": "markdown",
   "id": "d37e4b",
   "metadata": {
    "collapsed": false
   },
   "source": [
    "---\n",
    "We start by (optionally downloading and) importing necessary packages"
   ]
  },
  {
   "cell_type": "code",
   "execution_count": null,
   "metadata": {},
   "outputs": [],
   "source": [
    "%pip install matplotlib\n",
    "%pip install numpy\n",
    "%pip install networkx"
   ]
  },
  {
   "cell_type": "code",
   "execution_count": 1,
   "id": "000d44",
   "metadata": {
    "collapsed": false
   },
   "outputs": [],
   "source": [
    "import matplotlib.pyplot as plt\n",
    "import numpy as np"
   ]
  },
  {
   "cell_type": "markdown",
   "metadata": {},
   "source": [
    "--- \n",
    "First, we'll take a brief look at how to visualze a matrix. "
   ]
  },
  {
   "cell_type": "code",
   "execution_count": 24,
   "metadata": {},
   "outputs": [],
   "source": [
    "def draw(maze, figsize=10):\n",
    "    plt.figure(figsize=(figsize, figsize))\n",
    "\n",
    "    plt.imshow(maze, cmap='binary')\n",
    "    \n",
    "    plt.axis('off')\n",
    "    plt.show()"
   ]
  },
  {
   "cell_type": "markdown",
   "metadata": {},
   "source": [
    "In this notebook, we will denote walls with 1 and empty cells with 0 (this makes drawing easier). The drawing function (above) will take a matrix (2d array) of these 1s and 0s and show the corresponding image. For example, given the matrix\n",
    "\n",
    "$$\\begin{matrix}\n",
    "    1 & 1 & 1 \\\\\n",
    "    0 & 0 & 0 \\\\\n",
    "    1 & 1 & 1\n",
    "\\end{matrix}$$\n",
    "\n",
    "the corresponding image would be"
   ]
  },
  {
   "cell_type": "code",
   "execution_count": 26,
   "metadata": {},
   "outputs": [
    {
     "data": {
      "image/png": "[encoded data removed]",
      "text/plain": [
       "<Figure size 300x300 with 1 Axes>"
      ]
     },
     "metadata": {},
     "output_type": "display_data"
    }
   ],
   "source": [
    "matrix = np.array(\n",
    "    [[1, 1, 1], \n",
    "     [0, 0, 0], \n",
    "     [1, 1, 1]])\n",
    "draw(matrix, figsize=3)"
   ]
  },
  {
   "cell_type": "markdown",
   "metadata": {},
   "source": [
    "Here, there are two rows of walls on the top and bottom and a row of empty cells acorss the middle. Of course, this isn't a very interesting puzzle."
   ]
  },
  {
   "cell_type": "markdown",
   "metadata": {},
   "source": [
    "---\n",
    "### Exercise 1\n",
    "\n",
    "For our algorithms, we will always start with a full matrix of ones (grid of walls). We can begin by just removing some random subset of walls (of course there is little chance this is actually a maze / labyrinth). Fill in the blanks to generate this random matirx.  \n"
   ]
  },
  {
   "cell_type": "code",
   "execution_count": 86,
   "metadata": {},
   "outputs": [],
   "source": [
    "def random_removal(size, seed=None):\n",
    "    \"\"\"generates a random matrix of ones and zeros\n",
    "\n",
    "    Args:\n",
    "        size (int): size of a dimension of the matrix\n",
    "        seed (int, optional): seed for random generation. Defaults to None.\n",
    "\n",
    "    Returns:\n",
    "        2d numpy array: matrix of 1 and 0\n",
    "    \"\"\"\n",
    "\n",
    "    np.random.seed(seed)\n",
    "\n",
    "    matrix = np.ones((size, size)) # initialize a grid of walls\n",
    "\n",
    "    for i in range(____): # loop through rows\n",
    "        for j in range(____): # loop thrgouh columns\n",
    "            if np.random.random() > ____: # 50 % chance of creating an empty cell\n",
    "                matrix[i, j] = ____ # make the cell empty\n",
    "    \n",
    "    return matrix"
   ]
  },
  {
   "cell_type": "markdown",
   "metadata": {},
   "source": [
    "If done properly, the drawn matrix below will look like\n",
    "\n",
    "<img src=\"./random matrix.png\" alt=\"random matrix\" width=\"200\"/>"
   ]
  },
  {
   "cell_type": "code",
   "execution_count": 87,
   "metadata": {},
   "outputs": [
    {
     "data": {
      "image/png": "[encoded data removed]",
      "text/plain": [
       "<Figure size 300x300 with 1 Axes>"
      ]
     },
     "metadata": {},
     "output_type": "display_data"
    }
   ],
   "source": [
    "draw(random_removal(10, 0), 3)"
   ]
  },
  {
   "cell_type": "markdown",
   "metadata": {},
   "source": [
    "Of course, there are more elegant solutions. One is below. (It won't generate the same matrix)"
   ]
  },
  {
   "cell_type": "code",
   "execution_count": 90,
   "metadata": {},
   "outputs": [
    {
     "data": {
      "image/png": "[encoded data removed]",
      "text/plain": [
       "<Figure size 200x200 with 1 Axes>"
      ]
     },
     "metadata": {},
     "output_type": "display_data"
    }
   ],
   "source": [
    "draw(np.random.randint(2, size=(10, 10)), figsize=2)"
   ]
  },
  {
   "cell_type": "markdown",
   "metadata": {},
   "source": [
    "Now we create a maze. We will define a maze as a matrix of cells with two types of entries - empty and wall - such that there is a path (of empty cells) from an entrance to an exit and the path contains some unused branches (so it isn't a labyrinth). It would also be nice if this maze was interesting enough to be \"fun\" for the maze solver.\n",
    "\n",
    "# TODO: describe the nature of these cells"
   ]
  },
  {
   "cell_type": "markdown",
   "metadata": {},
   "source": [
    "# TODO: Insert small example here"
   ]
  },
  {
   "cell_type": "code",
   "execution_count": 120,
   "metadata": {},
   "outputs": [],
   "source": [
    "def recursive_backtracking(size):\n",
    "    maze = np.ones((size*2+1, size*2+1))\n",
    "    directions = [(0, 1), (1, 0), (0, -1), (-1, 0)]\n",
    "\n",
    "    x, y = (0, 0)\n",
    "    maze[2*x+1, 2*y+1] = 0\n",
    "\n",
    "    def recurse(x, y, maze):\n",
    "        np.random.shuffle(directions)\n",
    "\n",
    "        for dx, dy in directions:\n",
    "            nx, ny = x + dx, y + dy\n",
    "            if 0 <= nx < size and 0 <= ny < size and maze[2*nx+1, 2*ny+1] == 1:\n",
    "                maze[2*nx+1, 2*ny+1] = 0\n",
    "                maze[2*x+1+dx, 2*y+1+dy] = 0\n",
    "\n",
    "                recurse(nx, ny, maze)\n",
    "        else:\n",
    "            return maze\n",
    "    \n",
    "    maze = recurse(x, y, maze)\n",
    "\n",
    "    maze[1, 0] = 0\n",
    "    maze[-2, -1] = 0\n",
    "\n",
    "    return maze"
   ]
  },
  {
   "cell_type": "code",
   "execution_count": 112,
   "metadata": {},
   "outputs": [],
   "source": [
    "def backtracking(size):\n",
    "    maze = np.ones((size*2+1, size*2+1))\n",
    "\n",
    "    x, y = (0, 0)\n",
    "    maze[2*x+1, 2*y+1] = 0\n",
    "\n",
    "    stack = [(x, y)]\n",
    "    while stack:\n",
    "        x, y = stack[-1]\n",
    "\n",
    "        directions = [(0, 1), (1, 0), (0, -1), (-1, 0)]\n",
    "        np.random.shuffle(directions)\n",
    "\n",
    "        for dx, dy in directions:\n",
    "            nx, ny = x + dx, y + dy\n",
    "            if nx >= 0 and ny >= 0 and nx < size and ny < size and maze[2*nx+1, 2*ny+1] == 1:\n",
    "                maze[2*nx+1, 2*ny+1] = 0\n",
    "                maze[2*x+1+dx, 2*y+1+dy] = 0\n",
    "                stack.append((nx, ny))\n",
    "                break\n",
    "        else:\n",
    "            stack.pop()\n",
    "            \n",
    "    maze[1, 0] = 0\n",
    "    maze[-2, -1] = 0\n",
    "\n",
    "    return maze"
   ]
  },
  {
   "cell_type": "code",
   "execution_count": 126,
   "metadata": {},
   "outputs": [
    {
     "data": {
      "image/png": "[encoded data removed]",
      "text/plain": [
       "<Figure size 1000x1000 with 1 Axes>"
      ]
     },
     "metadata": {},
     "output_type": "display_data"
    }
   ],
   "source": [
    "# draw(backtracking(20))\n",
    "draw(recursive_backtracking(20))"
   ]
  },
  {
   "cell_type": "code",
   "execution_count": 129,
   "metadata": {},
   "outputs": [
    {
     "name": "stdout",
     "output_type": "stream",
     "text": [
      "700 µs ± 7.72 µs per loop (mean ± std. dev. of 7 runs, 1,000 loops each)\n"
     ]
    }
   ],
   "source": [
    "%timeit backtracking(20)\n",
    "\n"
   ]
  },
  {
   "cell_type": "code",
   "execution_count": 130,
   "metadata": {},
   "outputs": [
    {
     "name": "stdout",
     "output_type": "stream",
     "text": [
      "448 µs ± 1.83 µs per loop (mean ± std. dev. of 7 runs, 1,000 loops each)\n"
     ]
    }
   ],
   "source": [
    "%timeit recursive_backtracking(20)"
   ]
  },
  {
   "cell_type": "markdown",
   "metadata": {},
   "source": [
    "---\n",
    "## Solutions\n",
    "### Exercise 1\n",
    "\n",
    "```python\n",
    "for i in range(matrix.shape[0]): # loop through rows\n",
    "    for j in range(matrix.shape[1]): # loop thrgouh columns\n",
    "        if np.random.random() > .5: # 50 % chance of creating an empty cell\n",
    "            matrix[i, j] = 0 # make the cell empty\n",
    "```"
   ]
  },
  {
   "cell_type": "markdown",
   "metadata": {},
   "source": []
  }
 ],
 "metadata": {
  "kernelspec": {
   "display_name": "Python 3",
   "language": "python",
   "name": "python3"
  },
  "language_info": {
   "codemirror_mode": {
    "name": "ipython",
    "version": 3
   },
   "file_extension": ".py",
   "mimetype": "text/x-python",
   "name": "python",
   "nbconvert_exporter": "python",
   "pygments_lexer": "ipython3",
   "version": "3.12.5"
  }
 },
 "nbformat": 4,
 "nbformat_minor": 4
}
