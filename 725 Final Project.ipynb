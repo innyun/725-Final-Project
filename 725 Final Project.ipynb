{
 "cells": [
  {
   "cell_type": "markdown",
   "id": "711103",
   "metadata": {
    "collapsed": false
   },
   "source": [
    "# Final Project\n",
    "\n",
    "## Title: Automatic Maze Generation with Various Algorithms\n",
    "\n",
    "### Author: Vinny Sun\n",
    "\n",
    "##### Permission to share ✅"
   ]
  },
  {
   "cell_type": "markdown",
   "id": "bcbbd0",
   "metadata": {
    "collapsed": false
   },
   "source": [
    "Though the terms labyrinth and maze are generally synonymous in English today, many scholars will differentiate them with the fact labyrinths have no branching paths (they are [unicursal](https://www.oed.com/dictionary/unicursal_adj?tab=meaning_and_use&tl=true)) while mazes have branching paths (they are multicursal). [Labyrinths](https://en.wikipedia.org/wiki/Labyrinth) in particular have over 3000 years of history. However, since they have no branching, they don't make for a very interesting 2D puzzle. On the other hand, [mazes](http://www.unmuseum.org/maze.htm) have a shorter history but are much more interesting as a 2D puzzle. Both labyrinths and mazes can be generated algorithmically in many ways.\n",
    "\n",
    "Inspiration for the ideas and algorithms come from [here](https://weblog.jamisbuck.org/2011/2/7/maze-generation-algorithm-recap), [here](https://en.wikipedia.org/wiki/Maze_generation_algorithm), and [here](https://professor-l.github.io/maze) with ideas for the implementation coming from [here](https://medium.com/@msgold/using-python-to-create-and-solve-mazes-672285723c96).\n"
   ]
  },
  {
   "cell_type": "markdown",
   "id": "d37e4b",
   "metadata": {
    "collapsed": false
   },
   "source": [
    "---\n",
    "We start by (optionally downloading and) importing necessary packages"
   ]
  },
  {
   "cell_type": "code",
   "execution_count": null,
   "metadata": {},
   "outputs": [],
   "source": [
    "%pip install matplotlib\n",
    "%pip install numpy"
   ]
  },
  {
   "cell_type": "code",
   "execution_count": 604,
   "id": "000d44",
   "metadata": {
    "collapsed": false
   },
   "outputs": [],
   "source": [
    "import matplotlib.pyplot as plt\n",
    "import matplotlib.animation as ani\n",
    "import numpy as np\n",
    "from IPython.display import HTML"
   ]
  },
  {
   "cell_type": "markdown",
   "metadata": {},
   "source": [
    "--- \n",
    "\n",
    "First, we'll take a brief look at how to visualze a matrix. "
   ]
  },
  {
   "cell_type": "code",
   "execution_count": 3,
   "metadata": {},
   "outputs": [],
   "source": [
    "def draw(maze, figsize=10):\n",
    "    plt.figure(figsize=(figsize, figsize))\n",
    "\n",
    "    plt.imshow(maze, cmap='binary')\n",
    "    \n",
    "    plt.axis('off')\n",
    "    plt.show()"
   ]
  },
  {
   "cell_type": "markdown",
   "metadata": {},
   "source": [
    "In this notebook, we will denote walls with 1 and empty cells with 0 (this makes drawing easier). The drawing function (above) will take a matrix (2d array) of these 1s and 0s and show the corresponding image. For example, given the matrix\n",
    "\n",
    "$$\\begin{matrix}\n",
    "    1 & 1 & 1 \\\\\n",
    "    0 & 0 & 0 \\\\\n",
    "    1 & 1 & 1\n",
    "\\end{matrix}$$\n",
    "\n",
    "the corresponding image would be"
   ]
  },
  {
   "cell_type": "code",
   "execution_count": 4,
   "metadata": {},
   "outputs": [
    {
     "data": {
      "image/png": "[encoded data removed]",
      "text/plain": [
       "<Figure size 300x300 with 1 Axes>"
      ]
     },
     "metadata": {},
     "output_type": "display_data"
    }
   ],
   "source": [
    "matrix = np.array(\n",
    "    [[1, 1, 1], \n",
    "     [0, 0, 0], \n",
    "     [1, 1, 1]])\n",
    "draw(matrix, figsize=3)"
   ]
  },
  {
   "cell_type": "markdown",
   "metadata": {},
   "source": [
    "Here, there are two rows of walls on the top and bottom and a row of empty cells acorss the middle. Of course, this isn't a very interesting puzzle."
   ]
  },
  {
   "cell_type": "markdown",
   "metadata": {},
   "source": [
    "---\n",
    "\n",
    "### Exercise 1\n",
    "\n",
    "For our algorithms, we will always start with a full matrix of ones (grid of walls). We can begin by just removing some random subset of walls (of course there is little chance this is actually a maze / labyrinth). Fill in the blanks to generate this random matirx.  \n"
   ]
  },
  {
   "cell_type": "code",
   "execution_count": 5,
   "metadata": {},
   "outputs": [],
   "source": [
    "def random_removal(size, seed=None):\n",
    "    \"\"\"generates a random matrix of ones and zeros\n",
    "\n",
    "    Args:\n",
    "        size (int): size of a dimension of the matrix\n",
    "        seed (int, optional): seed for random generation. Defaults to None.\n",
    "\n",
    "    Returns:\n",
    "        2d numpy array: matrix of 1 and 0\n",
    "    \"\"\"\n",
    "\n",
    "    np.random.seed(seed)\n",
    "\n",
    "    matrix = np.ones((size, size)) # initialize a grid of walls\n",
    "\n",
    "    for i in range(____): # loop through rows\n",
    "        for j in range(____): # loop thrgouh columns\n",
    "            if np.random.random() > ____: # 50 % chance of creating an empty cell\n",
    "                matrix[i, j] = ____ # make the cell empty\n",
    "    \n",
    "    return matrix"
   ]
  },
  {
   "cell_type": "markdown",
   "metadata": {},
   "source": [
    "If done properly, the drawn matrix below will look like\n",
    "\n",
    "<img src=\"./random matrix.png\" alt=\"random matrix\" width=\"200\"/>"
   ]
  },
  {
   "cell_type": "code",
   "execution_count": 6,
   "metadata": {},
   "outputs": [
    {
     "ename": "NameError",
     "evalue": "name '____' is not defined",
     "output_type": "error",
     "traceback": [
      "\u001b[0;31m---------------------------------------------------------------------------\u001b[0m",
      "\u001b[0;31mNameError\u001b[0m                                 Traceback (most recent call last)",
      "Cell \u001b[0;32mIn[6], line 1\u001b[0m\n\u001b[0;32m----> 1\u001b[0m draw(\u001b[43mrandom_removal\u001b[49m\u001b[43m(\u001b[49m\u001b[38;5;241;43m10\u001b[39;49m\u001b[43m,\u001b[49m\u001b[43m \u001b[49m\u001b[38;5;241;43m0\u001b[39;49m\u001b[43m)\u001b[49m, \u001b[38;5;241m3\u001b[39m)\n",
      "Cell \u001b[0;32mIn[5], line 16\u001b[0m, in \u001b[0;36mrandom_removal\u001b[0;34m(size, seed)\u001b[0m\n\u001b[1;32m     12\u001b[0m np\u001b[38;5;241m.\u001b[39mrandom\u001b[38;5;241m.\u001b[39mseed(seed)\n\u001b[1;32m     14\u001b[0m matrix \u001b[38;5;241m=\u001b[39m np\u001b[38;5;241m.\u001b[39mones((size, size)) \u001b[38;5;66;03m# initialize a grid of walls\u001b[39;00m\n\u001b[0;32m---> 16\u001b[0m \u001b[38;5;28;01mfor\u001b[39;00m i \u001b[38;5;129;01min\u001b[39;00m \u001b[38;5;28mrange\u001b[39m(\u001b[43m____\u001b[49m): \u001b[38;5;66;03m# loop through rows\u001b[39;00m\n\u001b[1;32m     17\u001b[0m     \u001b[38;5;28;01mfor\u001b[39;00m j \u001b[38;5;129;01min\u001b[39;00m \u001b[38;5;28mrange\u001b[39m(____): \u001b[38;5;66;03m# loop thrgouh columns\u001b[39;00m\n\u001b[1;32m     18\u001b[0m         \u001b[38;5;28;01mif\u001b[39;00m np\u001b[38;5;241m.\u001b[39mrandom\u001b[38;5;241m.\u001b[39mrandom() \u001b[38;5;241m>\u001b[39m ____: \u001b[38;5;66;03m# 50 % chance of creating an empty cell\u001b[39;00m\n",
      "\u001b[0;31mNameError\u001b[0m: name '____' is not defined"
     ]
    }
   ],
   "source": [
    "draw(random_removal(10, 0), 3)"
   ]
  },
  {
   "cell_type": "markdown",
   "metadata": {},
   "source": [
    "Of course, there are more elegant solutions. One is below. (It won't generate the same matrix)"
   ]
  },
  {
   "cell_type": "code",
   "execution_count": 441,
   "metadata": {},
   "outputs": [
    {
     "data": {
      "image/png": "[encoded data removed]",
      "text/plain": [
       "<Figure size 200x200 with 1 Axes>"
      ]
     },
     "metadata": {},
     "output_type": "display_data"
    }
   ],
   "source": [
    "draw(np.random.randint(2, size=(10, 10)), figsize=2)"
   ]
  },
  {
   "cell_type": "markdown",
   "metadata": {},
   "source": [
    "Now we create a maze. We will define a maze as a matrix of cells with two types of entries - empty and wall - such that there is a path (of empty cells) from an entrance to an exit and the path contains some unused branches (so it isn't a labyrinth). It would also be nice if this maze was interesting enough to be \"fun\" for the maze solver."
   ]
  },
  {
   "cell_type": "markdown",
   "metadata": {},
   "source": [
    "---\n",
    "\n",
    "As seen above, we can't just remove walls anywhere. For example, we can't have four adjacent empty cells in a 2x2 grid, and all paths must be separated a wall with thickness exactly one. To create a valid maze, we actually need to work with a larger grid. Given a size, we will make a grid of $(\\text{size}*2+1, \\ \\text{size}*2+1)$."
   ]
  },
  {
   "cell_type": "markdown",
   "metadata": {},
   "source": [
    "If we visualize the $(\\text{size}, \\text{size})$ grid with walls of thickness 0 like below,"
   ]
  },
  {
   "cell_type": "code",
   "execution_count": 455,
   "metadata": {},
   "outputs": [
    {
     "data": {
      "image/png": "[encoded data removed]",
      "text/plain": [
       "<Figure size 1000x1000 with 1 Axes>"
      ]
     },
     "metadata": {},
     "output_type": "display_data"
    }
   ],
   "source": [
    "plt.figure(figsize=(10, 10))\n",
    "plt.grid(True)\n",
    "plt.xticks(range(10), labels=[''] * 10)\n",
    "plt.yticks(range(10), labels=[''] * 10)\n",
    "plt.show()\n"
   ]
  },
  {
   "cell_type": "markdown",
   "metadata": {},
   "source": [
    "the we can visualize the $(\\text{size}*2+1, \\text{size}*2+1)$ grid as having walls of thickness 1."
   ]
  },
  {
   "cell_type": "code",
   "execution_count": 459,
   "metadata": {},
   "outputs": [
    {
     "data": {
      "image/png": "[encoded data removed]",
      "text/plain": [
       "<Figure size 1000x1000 with 1 Axes>"
      ]
     },
     "metadata": {},
     "output_type": "display_data"
    }
   ],
   "source": [
    "grid = np.ones((21, 21))\n",
    "\n",
    "for x in range(1, grid.shape[0] - 1, 2):\n",
    "    for y in range(1, grid.shape[1] - 1, 2):\n",
    "        grid[x, y] = 0\n",
    "\n",
    "draw(grid)"
   ]
  },
  {
   "cell_type": "markdown",
   "metadata": {},
   "source": [
    "We need our function to return the above grid with walls removed to create a valid maze that can be drawn with our existing drawing function (drawing 1-thick walls is much easier than drawing 0-thick walls)"
   ]
  },
  {
   "cell_type": "markdown",
   "metadata": {},
   "source": [
    "To start, we'll initialize the $(\\text{size}*2+1, \\text{size}*2+1)$ grid to all ones. We'll create the maze by *backtracking*. This algorithm continously extends the maze in a random valid direction until it reaches an unextendable point. Then, it will backtrack to a previously visited point in the maze and try to extend in a different direction than previously. When the algorithm terminates, we will have a fully filled maze, and we'll just need to remove two walls for the entrace and exit. \n",
    "\n",
    "Try to understand the below code (the stack data structure is explained after)"
   ]
  },
  {
   "cell_type": "code",
   "execution_count": 507,
   "metadata": {},
   "outputs": [],
   "source": [
    "def backtracking(size):\n",
    "    \"\"\"Creates a maze of size*2+1 by size*2+1 through backtracking\n",
    "        (not size by size since we need 1-thick walls, not 0-thick walls)\n",
    "\n",
    "    Args:\n",
    "        size (int): size of grid\n",
    "\n",
    "    Returns:\n",
    "        2d numpy array: maze to draw\n",
    "    \"\"\"\n",
    "\n",
    "    # create the matrix of ones\n",
    "    maze = np.ones((size*2+1, size*2+1))\n",
    "\n",
    "    # starting location\n",
    "    x, y = (0, 0)\n",
    "\n",
    "    # set starting location in the maze empty cell\n",
    "    maze[2*x+1, 2*y+1] = 0\n",
    "\n",
    "    # initialize the stack of cells to check\n",
    "    stack = [(x, y)]\n",
    "\n",
    "    # while the stack is not empty\n",
    "    while stack:\n",
    "        # get the top item in the stack\n",
    "        x, y = stack[-1]\n",
    "\n",
    "        # initialize the list of possible directions (up, down, left, right)\n",
    "        directions = [(1, 0), (-1, 0), (0, -1), (0, 1)]\n",
    "\n",
    "        # shuffle the above directions list to have the maze generate in random directions\n",
    "        np.random.shuffle(directions)\n",
    "\n",
    "        # loop through the four directions\n",
    "        for dx, dy in directions:\n",
    "\n",
    "            # the next cells to check\n",
    "            nx, ny = x + dx, y + dy\n",
    "\n",
    "            # if the next cell is valid\n",
    "            if nx >= 0 and ny >= 0 and nx < size and ny < size and maze[2*nx+1, 2*ny+1] == 1:\n",
    "                # set the next cell to empty\n",
    "                maze[2*nx+1, 2*ny+1] = 0\n",
    "                # set the wall between current cell and next cell to empty\n",
    "                maze[2*x+1+dx, 2*y+1+dy] = 0\n",
    "                # push the next cell on the stack\n",
    "                stack.append((nx, ny))\n",
    "                break\n",
    "        else:\n",
    "            # if no valid cells to move to, remove the cell from the stack\n",
    "            stack.pop()\n",
    "\n",
    "    # create entrance and exit    \n",
    "    maze[0, 1] = 0\n",
    "    maze[-1, -2] = 0\n",
    "\n",
    "    return maze"
   ]
  },
  {
   "cell_type": "code",
   "execution_count": 508,
   "metadata": {},
   "outputs": [
    {
     "data": {
      "image/png": "[encoded data removed]",
      "text/plain": [
       "<Figure size 1000x1000 with 1 Axes>"
      ]
     },
     "metadata": {},
     "output_type": "display_data"
    }
   ],
   "source": [
    "draw(backtracking(20))"
   ]
  },
  {
   "cell_type": "markdown",
   "metadata": {},
   "source": [
    "The above algorithm uses a data structure called a *stack* (implemented with a python list) to keep track of the nodes that can still be expanded (at least one of the 4 directions is still free). A stack has *last-in-first-out* (LIFO) structure, where elements inserted last will be accessed first. You can think of this like a stack of trays. As you put new trays on top of the stack, these newer trays will be taken first. In stack terminology, you add items by *pushing* them and you remove items by *popping* them. \n",
    "\n",
    "(also side note, if the (x,y) and row/column are confusing, see [this](https://stackoverflow.com/questions/2203525/are-the-x-y-and-row-col-attributes-of-a-two-dimensional-array-backwards))"
   ]
  },
  {
   "cell_type": "markdown",
   "metadata": {},
   "source": [
    "Here is a visualization of the algorithm on a smaller maze to aid in understanding (this could take a while to run)"
   ]
  },
  {
   "cell_type": "code",
   "execution_count": 608,
   "metadata": {},
   "outputs": [
    {
     "data": {
      "application/javascript": "/* Put everything inside the global mpl namespace */\n/* global mpl */\nwindow.mpl = {};\n\nmpl.get_websocket_type = function () {\n    if (typeof WebSocket !== 'undefined') {\n        return WebSocket;\n    } else if (typeof MozWebSocket !== 'undefined') {\n        return MozWebSocket;\n    } else {\n        alert(\n            'Your browser does not have WebSocket support. ' +\n                'Please try Chrome, Safari or Firefox ≥ 6. ' +\n                'Firefox 4 and 5 are also supported but you ' +\n                'have to enable WebSockets in about:config.'\n        );\n    }\n};\n\nmpl.figure = function (figure_id, websocket, ondownload, parent_element) {\n    this.id = figure_id;\n\n    this.ws = websocket;\n\n    this.supports_binary = this.ws.binaryType !== undefined;\n\n    if (!this.supports_binary) {\n        var warnings = document.getElementById('mpl-warnings');\n        if (warnings) {\n            warnings.style.display = 'block';\n            warnings.textContent =\n                'This browser does not support binary websocket messages. ' +\n                'Performance may be slow.';\n        }\n    }\n\n    this.imageObj = new Image();\n\n    this.context = undefined;\n    this.message = undefined;\n    this.canvas = undefined;\n    this.rubberband_canvas = undefined;\n    this.rubberband_context = undefined;\n    this.format_dropdown = undefined;\n\n    this.image_mode = 'full';\n\n    this.root = document.createElement('div');\n    this.root.setAttribute('style', 'display: inline-block');\n    this._root_extra_style(this.root);\n\n    parent_element.appendChild(this.root);\n\n    this._init_header(this);\n    this._init_canvas(this);\n    this._init_toolbar(this);\n\n    var fig = this;\n\n    this.waiting = false;\n\n    this.ws.onopen = function () {\n        fig.send_message('supports_binary', { value: fig.supports_binary });\n        fig.send_message('send_image_mode', {});\n        if (fig.ratio !== 1) {\n            fig.send_message('set_device_pixel_ratio', {\n                device_pixel_ratio: fig.ratio,\n            });\n        }\n        fig.send_message('refresh', {});\n    };\n\n    this.imageObj.onload = function () {\n        if (fig.image_mode === 'full') {\n            // Full images could contain transparency (where diff images\n            // almost always do), so we need to clear the canvas so that\n            // there is no ghosting.\n            fig.context.clearRect(0, 0, fig.canvas.width, fig.canvas.height);\n        }\n        fig.context.drawImage(fig.imageObj, 0, 0);\n    };\n\n    this.imageObj.onunload = function () {\n        fig.ws.close();\n    };\n\n    this.ws.onmessage = this._make_on_message_function(this);\n\n    this.ondownload = ondownload;\n};\n\nmpl.figure.prototype._init_header = function () {\n    var titlebar = document.createElement('div');\n    titlebar.classList =\n        'ui-dialog-titlebar ui-widget-header ui-corner-all ui-helper-clearfix';\n    var titletext = document.createElement('div');\n    titletext.classList = 'ui-dialog-title';\n    titletext.setAttribute(\n        'style',\n        'width: 100%; text-align: center; padding: 3px;'\n    );\n    titlebar.appendChild(titletext);\n    this.root.appendChild(titlebar);\n    this.header = titletext;\n};\n\nmpl.figure.prototype._canvas_extra_style = function (_canvas_div) {};\n\nmpl.figure.prototype._root_extra_style = function (_canvas_div) {};\n\nmpl.figure.prototype._init_canvas = function () {\n    var fig = this;\n\n    var canvas_div = (this.canvas_div = document.createElement('div'));\n    canvas_div.setAttribute('tabindex', '0');\n    canvas_div.setAttribute(\n        'style',\n        'border: 1px solid #ddd;' +\n            'box-sizing: content-box;' +\n            'clear: both;' +\n            'min-height: 1px;' +\n            'min-width: 1px;' +\n            'outline: 0;' +\n            'overflow: hidden;' +\n            'position: relative;' +\n            'resize: both;' +\n            'z-index: 2;'\n    );\n\n    function on_keyboard_event_closure(name) {\n        return function (event) {\n            return fig.key_event(event, name);\n        };\n    }\n\n    canvas_div.addEventListener(\n        'keydown',\n        on_keyboard_event_closure('key_press')\n    );\n    canvas_div.addEventListener(\n        'keyup',\n        on_keyboard_event_closure('key_release')\n    );\n\n    this._canvas_extra_style(canvas_div);\n    this.root.appendChild(canvas_div);\n\n    var canvas = (this.canvas = document.createElement('canvas'));\n    canvas.classList.add('mpl-canvas');\n    canvas.setAttribute(\n        'style',\n        'box-sizing: content-box;' +\n            'pointer-events: none;' +\n            'position: relative;' +\n            'z-index: 0;'\n    );\n\n    this.context = canvas.getContext('2d');\n\n    var backingStore =\n        this.context.backingStorePixelRatio ||\n        this.context.webkitBackingStorePixelRatio ||\n        this.context.mozBackingStorePixelRatio ||\n        this.context.msBackingStorePixelRatio ||\n        this.context.oBackingStorePixelRatio ||\n        this.context.backingStorePixelRatio ||\n        1;\n\n    this.ratio = (window.devicePixelRatio || 1) / backingStore;\n\n    var rubberband_canvas = (this.rubberband_canvas = document.createElement(\n        'canvas'\n    ));\n    rubberband_canvas.setAttribute(\n        'style',\n        'box-sizing: content-box;' +\n            'left: 0;' +\n            'pointer-events: none;' +\n            'position: absolute;' +\n            'top: 0;' +\n            'z-index: 1;'\n    );\n\n    // Apply a ponyfill if ResizeObserver is not implemented by browser.\n    if (this.ResizeObserver === undefined) {\n        if (window.ResizeObserver !== undefined) {\n            this.ResizeObserver = window.ResizeObserver;\n        } else {\n            var obs = _JSXTOOLS_RESIZE_OBSERVER({});\n            this.ResizeObserver = obs.ResizeObserver;\n        }\n    }\n\n    this.resizeObserverInstance = new this.ResizeObserver(function (entries) {\n        // There's no need to resize if the WebSocket is not connected:\n        // - If it is still connecting, then we will get an initial resize from\n        //   Python once it connects.\n        // - If it has disconnected, then resizing will clear the canvas and\n        //   never get anything back to refill it, so better to not resize and\n        //   keep something visible.\n        if (fig.ws.readyState != 1) {\n            return;\n        }\n        var nentries = entries.length;\n        for (var i = 0; i < nentries; i++) {\n            var entry = entries[i];\n            var width, height;\n            if (entry.contentBoxSize) {\n                if (entry.contentBoxSize instanceof Array) {\n                    // Chrome 84 implements new version of spec.\n                    width = entry.contentBoxSize[0].inlineSize;\n                    height = entry.contentBoxSize[0].blockSize;\n                } else {\n                    // Firefox implements old version of spec.\n                    width = entry.contentBoxSize.inlineSize;\n                    height = entry.contentBoxSize.blockSize;\n                }\n            } else {\n                // Chrome <84 implements even older version of spec.\n                width = entry.contentRect.width;\n                height = entry.contentRect.height;\n            }\n\n            // Keep the size of the canvas and rubber band canvas in sync with\n            // the canvas container.\n            if (entry.devicePixelContentBoxSize) {\n                // Chrome 84 implements new version of spec.\n                canvas.setAttribute(\n                    'width',\n                    entry.devicePixelContentBoxSize[0].inlineSize\n                );\n                canvas.setAttribute(\n                    'height',\n                    entry.devicePixelContentBoxSize[0].blockSize\n                );\n            } else {\n                canvas.setAttribute('width', width * fig.ratio);\n                canvas.setAttribute('height', height * fig.ratio);\n            }\n            /* This rescales the canvas back to display pixels, so that it\n             * appears correct on HiDPI screens. */\n            canvas.style.width = width + 'px';\n            canvas.style.height = height + 'px';\n\n            rubberband_canvas.setAttribute('width', width);\n            rubberband_canvas.setAttribute('height', height);\n\n            // And update the size in Python. We ignore the initial 0/0 size\n            // that occurs as the element is placed into the DOM, which should\n            // otherwise not happen due to the minimum size styling.\n            if (width != 0 && height != 0) {\n                fig.request_resize(width, height);\n            }\n        }\n    });\n    this.resizeObserverInstance.observe(canvas_div);\n\n    function on_mouse_event_closure(name) {\n        /* User Agent sniffing is bad, but WebKit is busted:\n         * https://bugs.webkit.org/show_bug.cgi?id=144526\n         * https://bugs.webkit.org/show_bug.cgi?id=181818\n         * The worst that happens here is that they get an extra browser\n         * selection when dragging, if this check fails to catch them.\n         */\n        var UA = navigator.userAgent;\n        var isWebKit = /AppleWebKit/.test(UA) && !/Chrome/.test(UA);\n        if(isWebKit) {\n            return function (event) {\n                /* This prevents the web browser from automatically changing to\n                 * the text insertion cursor when the button is pressed. We\n                 * want to control all of the cursor setting manually through\n                 * the 'cursor' event from matplotlib */\n                event.preventDefault()\n                return fig.mouse_event(event, name);\n            };\n        } else {\n            return function (event) {\n                return fig.mouse_event(event, name);\n            };\n        }\n    }\n\n    canvas_div.addEventListener(\n        'mousedown',\n        on_mouse_event_closure('button_press')\n    );\n    canvas_div.addEventListener(\n        'mouseup',\n        on_mouse_event_closure('button_release')\n    );\n    canvas_div.addEventListener(\n        'dblclick',\n        on_mouse_event_closure('dblclick')\n    );\n    // Throttle sequential mouse events to 1 every 20ms.\n    canvas_div.addEventListener(\n        'mousemove',\n        on_mouse_event_closure('motion_notify')\n    );\n\n    canvas_div.addEventListener(\n        'mouseenter',\n        on_mouse_event_closure('figure_enter')\n    );\n    canvas_div.addEventListener(\n        'mouseleave',\n        on_mouse_event_closure('figure_leave')\n    );\n\n    canvas_div.addEventListener('wheel', function (event) {\n        if (event.deltaY < 0) {\n            event.step = 1;\n        } else {\n            event.step = -1;\n        }\n        on_mouse_event_closure('scroll')(event);\n    });\n\n    canvas_div.appendChild(canvas);\n    canvas_div.appendChild(rubberband_canvas);\n\n    this.rubberband_context = rubberband_canvas.getContext('2d');\n    this.rubberband_context.strokeStyle = '#000000';\n\n    this._resize_canvas = function (width, height, forward) {\n        if (forward) {\n            canvas_div.style.width = width + 'px';\n            canvas_div.style.height = height + 'px';\n        }\n    };\n\n    // Disable right mouse context menu.\n    canvas_div.addEventListener('contextmenu', function (_e) {\n        event.preventDefault();\n        return false;\n    });\n\n    function set_focus() {\n        canvas.focus();\n        canvas_div.focus();\n    }\n\n    window.setTimeout(set_focus, 100);\n};\n\nmpl.figure.prototype._init_toolbar = function () {\n    var fig = this;\n\n    var toolbar = document.createElement('div');\n    toolbar.classList = 'mpl-toolbar';\n    this.root.appendChild(toolbar);\n\n    function on_click_closure(name) {\n        return function (_event) {\n            return fig.toolbar_button_onclick(name);\n        };\n    }\n\n    function on_mouseover_closure(tooltip) {\n        return function (event) {\n            if (!event.currentTarget.disabled) {\n                return fig.toolbar_button_onmouseover(tooltip);\n            }\n        };\n    }\n\n    fig.buttons = {};\n    var buttonGroup = document.createElement('div');\n    buttonGroup.classList = 'mpl-button-group';\n    for (var toolbar_ind in mpl.toolbar_items) {\n        var name = mpl.toolbar_items[toolbar_ind][0];\n        var tooltip = mpl.toolbar_items[toolbar_ind][1];\n        var image = mpl.toolbar_items[toolbar_ind][2];\n        var method_name = mpl.toolbar_items[toolbar_ind][3];\n\n        if (!name) {\n            /* Instead of a spacer, we start a new button group. */\n            if (buttonGroup.hasChildNodes()) {\n                toolbar.appendChild(buttonGroup);\n            }\n            buttonGroup = document.createElement('div');\n            buttonGroup.classList = 'mpl-button-group';\n            continue;\n        }\n\n        var button = (fig.buttons[name] = document.createElement('button'));\n        button.classList = 'mpl-widget';\n        button.setAttribute('role', 'button');\n        button.setAttribute('aria-disabled', 'false');\n        button.addEventListener('click', on_click_closure(method_name));\n        button.addEventListener('mouseover', on_mouseover_closure(tooltip));\n\n        var icon_img = document.createElement('img');\n        icon_img.src = '_images/' + image + '.png';\n        icon_img.srcset = '_images/' + image + '_large.png 2x';\n        icon_img.alt = tooltip;\n        button.appendChild(icon_img);\n\n        buttonGroup.appendChild(button);\n    }\n\n    if (buttonGroup.hasChildNodes()) {\n        toolbar.appendChild(buttonGroup);\n    }\n\n    var fmt_picker = document.createElement('select');\n    fmt_picker.classList = 'mpl-widget';\n    toolbar.appendChild(fmt_picker);\n    this.format_dropdown = fmt_picker;\n\n    for (var ind in mpl.extensions) {\n        var fmt = mpl.extensions[ind];\n        var option = document.createElement('option');\n        option.selected = fmt === mpl.default_extension;\n        option.innerHTML = fmt;\n        fmt_picker.appendChild(option);\n    }\n\n    var status_bar = document.createElement('span');\n    status_bar.classList = 'mpl-message';\n    toolbar.appendChild(status_bar);\n    this.message = status_bar;\n};\n\nmpl.figure.prototype.request_resize = function (x_pixels, y_pixels) {\n    // Request matplotlib to resize the figure. Matplotlib will then trigger a resize in the client,\n    // which will in turn request a refresh of the image.\n    this.send_message('resize', { width: x_pixels, height: y_pixels });\n};\n\nmpl.figure.prototype.send_message = function (type, properties) {\n    properties['type'] = type;\n    properties['figure_id'] = this.id;\n    this.ws.send(JSON.stringify(properties));\n};\n\nmpl.figure.prototype.send_draw_message = function () {\n    if (!this.waiting) {\n        this.waiting = true;\n        this.ws.send(JSON.stringify({ type: 'draw', figure_id: this.id }));\n    }\n};\n\nmpl.figure.prototype.handle_save = function (fig, _msg) {\n    var format_dropdown = fig.format_dropdown;\n    var format = format_dropdown.options[format_dropdown.selectedIndex].value;\n    fig.ondownload(fig, format);\n};\n\nmpl.figure.prototype.handle_resize = function (fig, msg) {\n    var size = msg['size'];\n    if (size[0] !== fig.canvas.width || size[1] !== fig.canvas.height) {\n        fig._resize_canvas(size[0], size[1], msg['forward']);\n        fig.send_message('refresh', {});\n    }\n};\n\nmpl.figure.prototype.handle_rubberband = function (fig, msg) {\n    var x0 = msg['x0'] / fig.ratio;\n    var y0 = (fig.canvas.height - msg['y0']) / fig.ratio;\n    var x1 = msg['x1'] / fig.ratio;\n    var y1 = (fig.canvas.height - msg['y1']) / fig.ratio;\n    x0 = Math.floor(x0) + 0.5;\n    y0 = Math.floor(y0) + 0.5;\n    x1 = Math.floor(x1) + 0.5;\n    y1 = Math.floor(y1) + 0.5;\n    var min_x = Math.min(x0, x1);\n    var min_y = Math.min(y0, y1);\n    var width = Math.abs(x1 - x0);\n    var height = Math.abs(y1 - y0);\n\n    fig.rubberband_context.clearRect(\n        0,\n        0,\n        fig.canvas.width / fig.ratio,\n        fig.canvas.height / fig.ratio\n    );\n\n    fig.rubberband_context.strokeRect(min_x, min_y, width, height);\n};\n\nmpl.figure.prototype.handle_figure_label = function (fig, msg) {\n    // Updates the figure title.\n    fig.header.textContent = msg['label'];\n};\n\nmpl.figure.prototype.handle_cursor = function (fig, msg) {\n    fig.canvas_div.style.cursor = msg['cursor'];\n};\n\nmpl.figure.prototype.handle_message = function (fig, msg) {\n    fig.message.textContent = msg['message'];\n};\n\nmpl.figure.prototype.handle_draw = function (fig, _msg) {\n    // Request the server to send over a new figure.\n    fig.send_draw_message();\n};\n\nmpl.figure.prototype.handle_image_mode = function (fig, msg) {\n    fig.image_mode = msg['mode'];\n};\n\nmpl.figure.prototype.handle_history_buttons = function (fig, msg) {\n    for (var key in msg) {\n        if (!(key in fig.buttons)) {\n            continue;\n        }\n        fig.buttons[key].disabled = !msg[key];\n        fig.buttons[key].setAttribute('aria-disabled', !msg[key]);\n    }\n};\n\nmpl.figure.prototype.handle_navigate_mode = function (fig, msg) {\n    if (msg['mode'] === 'PAN') {\n        fig.buttons['Pan'].classList.add('active');\n        fig.buttons['Zoom'].classList.remove('active');\n    } else if (msg['mode'] === 'ZOOM') {\n        fig.buttons['Pan'].classList.remove('active');\n        fig.buttons['Zoom'].classList.add('active');\n    } else {\n        fig.buttons['Pan'].classList.remove('active');\n        fig.buttons['Zoom'].classList.remove('active');\n    }\n};\n\nmpl.figure.prototype.updated_canvas_event = function () {\n    // Called whenever the canvas gets updated.\n    this.send_message('ack', {});\n};\n\n// A function to construct a web socket function for onmessage handling.\n// Called in the figure constructor.\nmpl.figure.prototype._make_on_message_function = function (fig) {\n    return function socket_on_message(evt) {\n        if (evt.data instanceof Blob) {\n            var img = evt.data;\n            if (img.type !== 'image/png') {\n                /* FIXME: We get \"Resource interpreted as Image but\n                 * transferred with MIME type text/plain:\" errors on\n                 * Chrome.  But how to set the MIME type?  It doesn't seem\n                 * to be part of the websocket stream */\n                img.type = 'image/png';\n            }\n\n            /* Free the memory for the previous frames */\n            if (fig.imageObj.src) {\n                (window.URL || window.webkitURL).revokeObjectURL(\n                    fig.imageObj.src\n                );\n            }\n\n            fig.imageObj.src = (window.URL || window.webkitURL).createObjectURL(\n                img\n            );\n            fig.updated_canvas_event();\n            fig.waiting = false;\n            return;\n        } else if (\n            typeof evt.data === 'string' &&\n            evt.data.slice(0, 21) === 'data:image/png;base64'\n        ) {\n            fig.imageObj.src = evt.data;\n            fig.updated_canvas_event();\n            fig.waiting = false;\n            return;\n        }\n\n        var msg = JSON.parse(evt.data);\n        var msg_type = msg['type'];\n\n        // Call the  \"handle_{type}\" callback, which takes\n        // the figure and JSON message as its only arguments.\n        try {\n            var callback = fig['handle_' + msg_type];\n        } catch (e) {\n            console.log(\n                \"No handler for the '\" + msg_type + \"' message type: \",\n                msg\n            );\n            return;\n        }\n\n        if (callback) {\n            try {\n                // console.log(\"Handling '\" + msg_type + \"' message: \", msg);\n                callback(fig, msg);\n            } catch (e) {\n                console.log(\n                    \"Exception inside the 'handler_\" + msg_type + \"' callback:\",\n                    e,\n                    e.stack,\n                    msg\n                );\n            }\n        }\n    };\n};\n\nfunction getModifiers(event) {\n    var mods = [];\n    if (event.ctrlKey) {\n        mods.push('ctrl');\n    }\n    if (event.altKey) {\n        mods.push('alt');\n    }\n    if (event.shiftKey) {\n        mods.push('shift');\n    }\n    if (event.metaKey) {\n        mods.push('meta');\n    }\n    return mods;\n}\n\n/*\n * return a copy of an object with only non-object keys\n * we need this to avoid circular references\n * https://stackoverflow.com/a/24161582/3208463\n */\nfunction simpleKeys(original) {\n    return Object.keys(original).reduce(function (obj, key) {\n        if (typeof original[key] !== 'object') {\n            obj[key] = original[key];\n        }\n        return obj;\n    }, {});\n}\n\nmpl.figure.prototype.mouse_event = function (event, name) {\n    if (name === 'button_press') {\n        this.canvas.focus();\n        this.canvas_div.focus();\n    }\n\n    // from https://stackoverflow.com/q/1114465\n    var boundingRect = this.canvas.getBoundingClientRect();\n    var x = (event.clientX - boundingRect.left) * this.ratio;\n    var y = (event.clientY - boundingRect.top) * this.ratio;\n\n    this.send_message(name, {\n        x: x,\n        y: y,\n        button: event.button,\n        step: event.step,\n        modifiers: getModifiers(event),\n        guiEvent: simpleKeys(event),\n    });\n\n    return false;\n};\n\nmpl.figure.prototype._key_event_extra = function (_event, _name) {\n    // Handle any extra behaviour associated with a key event\n};\n\nmpl.figure.prototype.key_event = function (event, name) {\n    // Prevent repeat events\n    if (name === 'key_press') {\n        if (event.key === this._key) {\n            return;\n        } else {\n            this._key = event.key;\n        }\n    }\n    if (name === 'key_release') {\n        this._key = null;\n    }\n\n    var value = '';\n    if (event.ctrlKey && event.key !== 'Control') {\n        value += 'ctrl+';\n    }\n    else if (event.altKey && event.key !== 'Alt') {\n        value += 'alt+';\n    }\n    else if (event.shiftKey && event.key !== 'Shift') {\n        value += 'shift+';\n    }\n\n    value += 'k' + event.key;\n\n    this._key_event_extra(event, name);\n\n    this.send_message(name, { key: value, guiEvent: simpleKeys(event) });\n    return false;\n};\n\nmpl.figure.prototype.toolbar_button_onclick = function (name) {\n    if (name === 'download') {\n        this.handle_save(this, null);\n    } else {\n        this.send_message('toolbar_button', { name: name });\n    }\n};\n\nmpl.figure.prototype.toolbar_button_onmouseover = function (tooltip) {\n    this.message.textContent = tooltip;\n};\n\n///////////////// REMAINING CONTENT GENERATED BY embed_js.py /////////////////\n// prettier-ignore\nvar _JSXTOOLS_RESIZE_OBSERVER=function(A){var t,i=new WeakMap,n=new WeakMap,a=new WeakMap,r=new WeakMap,o=new Set;function s(e){if(!(this instanceof s))throw new TypeError(\"Constructor requires 'new' operator\");i.set(this,e)}function h(){throw new TypeError(\"Function is not a constructor\")}function c(e,t,i,n){e=0 in arguments?Number(arguments[0]):0,t=1 in arguments?Number(arguments[1]):0,i=2 in arguments?Number(arguments[2]):0,n=3 in arguments?Number(arguments[3]):0,this.right=(this.x=this.left=e)+(this.width=i),this.bottom=(this.y=this.top=t)+(this.height=n),Object.freeze(this)}function d(){t=requestAnimationFrame(d);var s=new WeakMap,p=new Set;o.forEach((function(t){r.get(t).forEach((function(i){var r=t instanceof window.SVGElement,o=a.get(t),d=r?0:parseFloat(o.paddingTop),f=r?0:parseFloat(o.paddingRight),l=r?0:parseFloat(o.paddingBottom),u=r?0:parseFloat(o.paddingLeft),g=r?0:parseFloat(o.borderTopWidth),m=r?0:parseFloat(o.borderRightWidth),w=r?0:parseFloat(o.borderBottomWidth),b=u+f,F=d+l,v=(r?0:parseFloat(o.borderLeftWidth))+m,W=g+w,y=r?0:t.offsetHeight-W-t.clientHeight,E=r?0:t.offsetWidth-v-t.clientWidth,R=b+v,z=F+W,M=r?t.width:parseFloat(o.width)-R-E,O=r?t.height:parseFloat(o.height)-z-y;if(n.has(t)){var k=n.get(t);if(k[0]===M&&k[1]===O)return}n.set(t,[M,O]);var S=Object.create(h.prototype);S.target=t,S.contentRect=new c(u,d,M,O),s.has(i)||(s.set(i,[]),p.add(i)),s.get(i).push(S)}))})),p.forEach((function(e){i.get(e).call(e,s.get(e),e)}))}return s.prototype.observe=function(i){if(i instanceof window.Element){r.has(i)||(r.set(i,new Set),o.add(i),a.set(i,window.getComputedStyle(i)));var n=r.get(i);n.has(this)||n.add(this),cancelAnimationFrame(t),t=requestAnimationFrame(d)}},s.prototype.unobserve=function(i){if(i instanceof window.Element&&r.has(i)){var n=r.get(i);n.has(this)&&(n.delete(this),n.size||(r.delete(i),o.delete(i))),n.size||r.delete(i),o.size||cancelAnimationFrame(t)}},A.DOMRectReadOnly=c,A.ResizeObserver=s,A.ResizeObserverEntry=h,A}; // eslint-disable-line\nmpl.toolbar_items = [[\"Home\", \"Reset original view\", \"fa fa-home\", \"home\"], [\"Back\", \"Back to previous view\", \"fa fa-arrow-left\", \"back\"], [\"Forward\", \"Forward to next view\", \"fa fa-arrow-right\", \"forward\"], [\"\", \"\", \"\", \"\"], [\"Pan\", \"Left button pans, Right button zooms\\nx/y fixes axis, CTRL fixes aspect\", \"fa fa-arrows\", \"pan\"], [\"Zoom\", \"Zoom to rectangle\\nx/y fixes axis\", \"fa fa-square-o\", \"zoom\"], [\"\", \"\", \"\", \"\"], [\"Download\", \"Download plot\", \"fa fa-floppy-o\", \"download\"]];\n\nmpl.extensions = [\"eps\", \"jpeg\", \"pgf\", \"pdf\", \"png\", \"ps\", \"raw\", \"svg\", \"tif\", \"webp\"];\n\nmpl.default_extension = \"png\";/* global mpl */\n\nvar comm_websocket_adapter = function (comm) {\n    // Create a \"websocket\"-like object which calls the given IPython comm\n    // object with the appropriate methods. Currently this is a non binary\n    // socket, so there is still some room for performance tuning.\n    var ws = {};\n\n    ws.binaryType = comm.kernel.ws.binaryType;\n    ws.readyState = comm.kernel.ws.readyState;\n    function updateReadyState(_event) {\n        if (comm.kernel.ws) {\n            ws.readyState = comm.kernel.ws.readyState;\n        } else {\n            ws.readyState = 3; // Closed state.\n        }\n    }\n    comm.kernel.ws.addEventListener('open', updateReadyState);\n    comm.kernel.ws.addEventListener('close', updateReadyState);\n    comm.kernel.ws.addEventListener('error', updateReadyState);\n\n    ws.close = function () {\n        comm.close();\n    };\n    ws.send = function (m) {\n        //console.log('sending', m);\n        comm.send(m);\n    };\n    // Register the callback with on_msg.\n    comm.on_msg(function (msg) {\n        //console.log('receiving', msg['content']['data'], msg);\n        var data = msg['content']['data'];\n        if (data['blob'] !== undefined) {\n            data = {\n                data: new Blob(msg['buffers'], { type: data['blob'] }),\n            };\n        }\n        // Pass the mpl event to the overridden (by mpl) onmessage function.\n        ws.onmessage(data);\n    });\n    return ws;\n};\n\nmpl.mpl_figure_comm = function (comm, msg) {\n    // This is the function which gets called when the mpl process\n    // starts-up an IPython Comm through the \"matplotlib\" channel.\n\n    var id = msg.content.data.id;\n    // Get hold of the div created by the display call when the Comm\n    // socket was opened in Python.\n    var element = document.getElementById(id);\n    var ws_proxy = comm_websocket_adapter(comm);\n\n    function ondownload(figure, _format) {\n        window.open(figure.canvas.toDataURL());\n    }\n\n    var fig = new mpl.figure(id, ws_proxy, ondownload, element);\n\n    // Call onopen now - mpl needs it, as it is assuming we've passed it a real\n    // web socket which is closed, not our websocket->open comm proxy.\n    ws_proxy.onopen();\n\n    fig.parent_element = element;\n    fig.cell_info = mpl.find_output_cell(\"<div id='\" + id + \"'></div>\");\n    if (!fig.cell_info) {\n        console.error('Failed to find cell for figure', id, fig);\n        return;\n    }\n    fig.cell_info[0].output_area.element.on(\n        'cleared',\n        { fig: fig },\n        fig._remove_fig_handler\n    );\n};\n\nmpl.figure.prototype.handle_close = function (fig, msg) {\n    var width = fig.canvas.width / fig.ratio;\n    fig.cell_info[0].output_area.element.off(\n        'cleared',\n        fig._remove_fig_handler\n    );\n    fig.resizeObserverInstance.unobserve(fig.canvas_div);\n\n    // Update the output cell to use the data from the current canvas.\n    fig.push_to_output();\n    var dataURL = fig.canvas.toDataURL();\n    // Re-enable the keyboard manager in IPython - without this line, in FF,\n    // the notebook keyboard shortcuts fail.\n    IPython.keyboard_manager.enable();\n    fig.parent_element.innerHTML =\n        '<img src=\"' + dataURL + '\" width=\"' + width + '\">';\n    fig.close_ws(fig, msg);\n};\n\nmpl.figure.prototype.close_ws = function (fig, msg) {\n    fig.send_message('closing', msg);\n    // fig.ws.close()\n};\n\nmpl.figure.prototype.push_to_output = function (_remove_interactive) {\n    // Turn the data on the canvas into data in the output cell.\n    var width = this.canvas.width / this.ratio;\n    var dataURL = this.canvas.toDataURL();\n    this.cell_info[1]['text/html'] =\n        '<img src=\"' + dataURL + '\" width=\"' + width + '\">';\n};\n\nmpl.figure.prototype.updated_canvas_event = function () {\n    // Tell IPython that the notebook contents must change.\n    IPython.notebook.set_dirty(true);\n    this.send_message('ack', {});\n    var fig = this;\n    // Wait a second, then push the new image to the DOM so\n    // that it is saved nicely (might be nice to debounce this).\n    setTimeout(function () {\n        fig.push_to_output();\n    }, 1000);\n};\n\nmpl.figure.prototype._init_toolbar = function () {\n    var fig = this;\n\n    var toolbar = document.createElement('div');\n    toolbar.classList = 'btn-toolbar';\n    this.root.appendChild(toolbar);\n\n    function on_click_closure(name) {\n        return function (_event) {\n            return fig.toolbar_button_onclick(name);\n        };\n    }\n\n    function on_mouseover_closure(tooltip) {\n        return function (event) {\n            if (!event.currentTarget.disabled) {\n                return fig.toolbar_button_onmouseover(tooltip);\n            }\n        };\n    }\n\n    fig.buttons = {};\n    var buttonGroup = document.createElement('div');\n    buttonGroup.classList = 'btn-group';\n    var button;\n    for (var toolbar_ind in mpl.toolbar_items) {\n        var name = mpl.toolbar_items[toolbar_ind][0];\n        var tooltip = mpl.toolbar_items[toolbar_ind][1];\n        var image = mpl.toolbar_items[toolbar_ind][2];\n        var method_name = mpl.toolbar_items[toolbar_ind][3];\n\n        if (!name) {\n            /* Instead of a spacer, we start a new button group. */\n            if (buttonGroup.hasChildNodes()) {\n                toolbar.appendChild(buttonGroup);\n            }\n            buttonGroup = document.createElement('div');\n            buttonGroup.classList = 'btn-group';\n            continue;\n        }\n\n        button = fig.buttons[name] = document.createElement('button');\n        button.classList = 'btn btn-default';\n        button.href = '#';\n        button.title = name;\n        button.innerHTML = '<i class=\"fa ' + image + ' fa-lg\"></i>';\n        button.addEventListener('click', on_click_closure(method_name));\n        button.addEventListener('mouseover', on_mouseover_closure(tooltip));\n        buttonGroup.appendChild(button);\n    }\n\n    if (buttonGroup.hasChildNodes()) {\n        toolbar.appendChild(buttonGroup);\n    }\n\n    // Add the status bar.\n    var status_bar = document.createElement('span');\n    status_bar.classList = 'mpl-message pull-right';\n    toolbar.appendChild(status_bar);\n    this.message = status_bar;\n\n    // Add the close button to the window.\n    var buttongrp = document.createElement('div');\n    buttongrp.classList = 'btn-group inline pull-right';\n    button = document.createElement('button');\n    button.classList = 'btn btn-mini btn-primary';\n    button.href = '#';\n    button.title = 'Stop Interaction';\n    button.innerHTML = '<i class=\"fa fa-power-off icon-remove icon-large\"></i>';\n    button.addEventListener('click', function (_evt) {\n        fig.handle_close(fig, {});\n    });\n    button.addEventListener(\n        'mouseover',\n        on_mouseover_closure('Stop Interaction')\n    );\n    buttongrp.appendChild(button);\n    var titlebar = this.root.querySelector('.ui-dialog-titlebar');\n    titlebar.insertBefore(buttongrp, titlebar.firstChild);\n};\n\nmpl.figure.prototype._remove_fig_handler = function (event) {\n    var fig = event.data.fig;\n    if (event.target !== this) {\n        // Ignore bubbled events from children.\n        return;\n    }\n    fig.close_ws(fig, {});\n};\n\nmpl.figure.prototype._root_extra_style = function (el) {\n    el.style.boxSizing = 'content-box'; // override notebook setting of border-box.\n};\n\nmpl.figure.prototype._canvas_extra_style = function (el) {\n    // this is important to make the div 'focusable\n    el.setAttribute('tabindex', 0);\n    // reach out to IPython and tell the keyboard manager to turn it's self\n    // off when our div gets focus\n\n    // location in version 3\n    if (IPython.notebook.keyboard_manager) {\n        IPython.notebook.keyboard_manager.register_events(el);\n    } else {\n        // location in version 2\n        IPython.keyboard_manager.register_events(el);\n    }\n};\n\nmpl.figure.prototype._key_event_extra = function (event, _name) {\n    // Check for shift+enter\n    if (event.shiftKey && event.which === 13) {\n        this.canvas_div.blur();\n        // select the cell after this one\n        var index = IPython.notebook.find_cell_index(this.cell_info[0]);\n        IPython.notebook.select(index + 1);\n    }\n};\n\nmpl.figure.prototype.handle_save = function (fig, _msg) {\n    fig.ondownload(fig, null);\n};\n\nmpl.find_output_cell = function (html_output) {\n    // Return the cell and output element which can be found *uniquely* in the notebook.\n    // Note - this is a bit hacky, but it is done because the \"notebook_saving.Notebook\"\n    // IPython event is triggered only after the cells have been serialised, which for\n    // our purposes (turning an active figure into a static one), is too late.\n    var cells = IPython.notebook.get_cells();\n    var ncells = cells.length;\n    for (var i = 0; i < ncells; i++) {\n        var cell = cells[i];\n        if (cell.cell_type === 'code') {\n            for (var j = 0; j < cell.output_area.outputs.length; j++) {\n                var data = cell.output_area.outputs[j];\n                if (data.data) {\n                    // IPython >= 3 moved mimebundle to data attribute of output\n                    data = data.data;\n                }\n                if (data['text/html'] === html_output) {\n                    return [cell, data, j];\n                }\n            }\n        }\n    }\n};\n\n// Register the function which deals with the matplotlib target/channel.\n// The kernel may be null if the page has been refreshed.\nif (IPython.notebook.kernel !== null) {\n    IPython.notebook.kernel.comm_manager.register_target(\n        'matplotlib',\n        mpl.mpl_figure_comm\n    );\n}\n",
      "text/plain": [
       "<IPython.core.display.Javascript object>"
      ]
     },
     "metadata": {},
     "output_type": "display_data"
    },
    {
     "data": {
      "text/html": [
       "<div id='c9a309d9-fba3-4c21-9df1-57455ec517e7'></div>"
      ],
      "text/plain": [
       "<IPython.core.display.HTML object>"
      ]
     },
     "metadata": {},
     "output_type": "display_data"
    },
    {
     "data": {
      "text/html": [
       "<video width=\"750\" height=\"750\" controls autoplay loop>\n",
       "  <source type=\"video/mp4\" src=\"data:video/mp4;base64,AAAAIGZ0eXBNNFYgAAACAE00ViBpc29taXNvMmF2YzEAAAAIZnJlZQAAGYRtZGF0AAACrgYF//+q\n",
       "3EXpvebZSLeWLNgg2SPu73gyNjQgLSBjb3JlIDE2NCByMzEwOCAzMWUxOWY5IC0gSC4yNjQvTVBF\n",
       "Ry00IEFWQyBjb2RlYyAtIENvcHlsZWZ0IDIwMDMtMjAyMyAtIGh0dHA6Ly93d3cudmlkZW9sYW4u\n",
       "b3JnL3gyNjQuaHRtbCAtIG9wdGlvbnM6IGNhYmFjPTEgcmVmPTMgZGVibG9jaz0xOjA6MCBhbmFs\n",
       "eXNlPTB4MzoweDExMyBtZT1oZXggc3VibWU9NyBwc3k9MSBwc3lfcmQ9MS4wMDowLjAwIG1peGVk\n",
       "X3JlZj0xIG1lX3JhbmdlPTE2IGNocm9tYV9tZT0xIHRyZWxsaXM9MSA4eDhkY3Q9MSBjcW09MCBk\n",
       "ZWFkem9uZT0yMSwxMSBmYXN0X3Bza2lwPTEgY2hyb21hX3FwX29mZnNldD0tMiB0aHJlYWRzPTEy\n",
       "IGxvb2thaGVhZF90aHJlYWRzPTIgc2xpY2VkX3RocmVhZHM9MCBucj0wIGRlY2ltYXRlPTEgaW50\n",
       "ZXJsYWNlZD0wIGJsdXJheV9jb21wYXQ9MCBjb25zdHJhaW5lZF9pbnRyYT0wIGJmcmFtZXM9MyBi\n",
       "X3B5cmFtaWQ9MiBiX2FkYXB0PTEgYl9iaWFzPTAgZGlyZWN0PTEgd2VpZ2h0Yj0xIG9wZW5fZ29w\n",
       "PTAgd2VpZ2h0cD0yIGtleWludD0yNTAga2V5aW50X21pbj0yIHNjZW5lY3V0PTQwIGludHJhX3Jl\n",
       "ZnJlc2g9MCByY19sb29rYWhlYWQ9NDAgcmM9Y3JmIG1idHJlZT0xIGNyZj0yMy4wIHFjb21wPTAu\n",
       "NjAgcXBtaW49MCBxcG1heD02OSBxcHN0ZXA9NCBpcF9yYXRpbz0xLjQwIGFxPTE6MS4wMACAAAAB\n",
       "UGWIhAAV//73ye/AputbW7W/k89I/Cy3PsIqP25bE7TqAAADAAADAAADAAEjUM2FDy7Nb6WwAAAD\n",
       "AFWADBgTsDTqT+gFy//xAGzz/86zAnFpRRja+aRMOjm90AjAKC09q8tGAG4KNsRZGnDg5fds4zbW\n",
       "FgAAafJu8NXwvSxdFiC/seuPC4LDK3JsTnFmGsTgmmKKwP+5EFU7pY0/HgEl4y7Us+/c+0xb4DcB\n",
       "nzFSGx/qA/PTVd1aZnRszCjmP5pHw31AE7tNWSy5S+wJXAl932cP2AUMu4PUH0AAAAMAAAMAAAMA\n",
       "AAMAAAMAAAMAAAMAAAMAAAMAAAMAAAMAAAMAAAMAAAMAAAMAAAMAAAMAAAMAAAMAAAMBFNndr+X0\n",
       "X/5xLbkTLWu51u+MFnbbgArCUyV36wCm4QlIFiix4csOuyqDxJaMAAADAAADAAADAADYgQAAAHtB\n",
       "miJsQV/+1qVQAACu/cgPnHBNf17DXWo6EqAoCQKZbBY8cafKebod/ZefTqrK/6XV5vxQVL1CTOL9\n",
       "O1Z7exRU7WyA2/iANYA1AVIYtDPzezZZFPmdTnFHcSjZBB63v8yUEXYGpYb6L4UUCglY1MXrtChi\n",
       "84Qfi74AQ8AAAAAzAZ5BeQS/AAADAp+IHTrmlSksGvqnqvPEHGkX6m36lFIqXWHPGpujMolAAAAD\n",
       "AAADAB9xAAAAp0GaQzwhkymEFf/+1qVQAAADAF45E39O234ABQHQd++r7EoqdFXFrkUGB3x+3tYK\n",
       "5PaCZLgAu7tT3Fkd2cnxKicy9fd32k/iAvXGN3SLrFpvG6tmEwgFG1+z+iA27pceh7oNZnWtMBZK\n",
       "lI7cZL9gOQakMcUNmikGkGtF8r+tzlN6bRiawWf1SfmYkflK8ACpXadCb/5lMvLSjtzCUxMifL69\n",
       "Nz5kiVaAAAAAsEGaZUnhDyZTBTwV//7WpVAAAIz0H/8jw/iAoToO+3fkMLfHa8Kfi1UJfhDXzlGK\n",
       "nKjBqhC/4WJTeDoxD2Az+XvFv5WZ5ztBDrmoyKObKWSx97QhoX9m87fZZAeBvpkAvrNhU3xacSs6\n",
       "mWF/vIj1iMupxI2A9BvTOun2yTaxEb8Wj0oLqAkfPAyKDlXGAuaYJJhn2Rb5gpMXhwTpmWukwvqG\n",
       "0YMZk3EgAAADAAADAAGLAAAARQGehGpBLwAAAwIaGB0tCGqAAt7eGuQCA1dPFAfI3knbTCMn4+sK\n",
       "iVuyIjZa0iR8aWyjnWnvZBFLy56mQAAAAwAAAwACtwAAAGRBmoZJ4Q8mUwIK//7WpVAAAHU+tLTa\n",
       "OCa/r2IAbZgBLLoO+3W2XnfTd3ENsRO7NVK9nt6YzK6eapjq8mJaAAxFHLOvuvP652N7jj7yfx+b\n",
       "a19A5HPDfMKDiToAAAMAAAMAAAfdAAAATkGap0nhDyZTAgt//talUAAAaD+UB/U5GQ7GbOBWIJKB\n",
       "chrNsX8CQd1GQWQ9pFygmP8Dye1jkXyY+vjMZIXXn2Kiy7pkPZB5eonNkwd4YQAAAElBmspJ4Q8m\n",
       "UwIK//7WpVAAAF4+5AfOOCa/r2Hl2o5HkKqcDsVb1y5IM2rG0z08FjZMEeE0AAA4ahPgshcH9FxT\n",
       "FraAAAADAAIeAAAAO0Ge6EURPBP/AAADAO6EalbFVUU/M43WrRmSdenolPNDDv2/UO6fY7UyOvPO\n",
       "WoxQSHC9MTMAAAMAAAQ8AAAAVwGfCWpBLwAAAwAI6GB066lXCBjX3rzYVmcxaxF4/6x4AIdW5IPE\n",
       "kCtfSCNXyzSUW7jd63MeyIljPbhpeN4UgJvcOoP9zLnbEhKF24H7eEVrgAAAAwACXwAAAIhBmwxJ\n",
       "qEFomUwU8Ff//talUAAAAwAAKpyL/zJB39QBb+fa56soxMvFwDt0WE36FGrKFsWH+vX/Cw+wkprq\n",
       "EpkJCbk4qxdayrl935ZO33vCDowQbf+BPGMaqzYF2oRGbU8+4mfqxxVfFtRoqHf2i0ecpFUVkePA\n",
       "A2IAAAMAFF41KoAAAAMAAKCAAAAALAGfK2pBLwAAAwAAAwCjb/SMgq2FOWtu+Em+qJcSNlJoz0gQ\n",
       "SAAAAwAAAwK2AAAApEGbLUnhClJlMCCv//7WpVAAAAMARHoP/hvPoQDVhtoA/5jHPotlzIk+CXLq\n",
       "oY/cz+IhPvcPf+NhAgf/XPUkH53he4FrSZ/G6BIob72m/prahf4EJ01QDVwK7OWyc+QyqHT7U2oa\n",
       "QJ0G4Y31Se+pMNOzfiAVe6nR8xGC7QrasrWNRPMagaLLMWWnqDiH7+3aB6trpm9jUdphjLI7AAAD\n",
       "AAADAAxZAAAAw0GbT0nhDomUwU0TBX/+1qVQAAADAE4cXahlSgD6U20Afq5a0DvIzI+nqxQCaHfN\n",
       "aCMHd2uwMzpw261g4ndyMFxpq6u4xuXVUUy7Tg7YsANUCDgRP53eb3TTduouVQUO+9szLlJB4qrq\n",
       "2//wx6NxIDX1QhsdsfXaVDZVNyXuuXMilNSHX2rSfHcDd6N6mmJGYsGaRk3GDp08keR1GxtxmQWV\n",
       "cHZTtMKfv7IxaEi7wZDR9b9EaIDzV46IsAAAAwAAAwATsQAAADcBn25qQS8AAAMAAS0n6RkFWwp1\n",
       "U8ACazAv/v2xO2vDhjlTTdmFkIIc6PcXaKc+AAADAAADAAKTAAAAUUGbcEnhDyZTAgt//talUAAA\n",
       "AwACE/y2S2/C3tEn/9rH+AAiwwZ/8Fa/AULFlr08rtO7z7oNxhxwyuFgD/nrcGODKwtAxsQMHSgA\n",
       "AAMAAAMD7gAAAJ5Bm5JJ4Q8mUwURPBb//talUAAAAwAANVvj/QRxR/wAFUqqlRuMa61hVZ2yJw3r\n",
       "WPF8dgj5sa4f9SfIv3lGB3NJnCb6AKGiMI2otXIQFWXgM/T5m1Ad2bHBaa9XQvQiST/vRCuLo43b\n",
       "AtoA4gGSzC5S6849NrXY10kCQ3RjoYeJhdCpjoX6KoCW0WS688vfhf0zTSQPedaU8YAAAAMBNwAA\n",
       "ACwBn7FqQS8AAAMAAAMAzamMcculToWnptjShtdmZP06w9TLzsoucQAAAwANmQAAALtBm7RJ4Q8m\n",
       "UwU8Fv/+1qVQAAADAAADAB6to5UIA6a+AAsSnaMI2/426fzAqWDoQhf8VfqIIoVUD1J8jGHQgCHJ\n",
       "8hNCGd8s8hvcNZ/pZDi14TJnLrCdwoAAB5SZSPiBOYbA7vT+vG1o6vxOLyLkX0+SvyIoMd5VPFEe\n",
       "i3eBf1Do1yW/6sPj13Minc5iZb90Zul3bCLuTMnnTmLVIA8jJWGWtSVpvljVVxf0rYskklfX/u5B\n",
       "GJGpDAgAAEnAAAAAOQGf02pBLwAAAwAAAwAAdpL87HAtMiOoL1Uuv1Bbuz7rR7JXmf9WmP+LjLYr\n",
       "cPHn6AwBcaTIAAAm4AAAAKlBm9ZJ4Q8mUwU8Ff/+1qVQAAADAAADAAKmYr2gC/7+d63aprY9tTHp\n",
       "fR31ENDygVSD9C0rEtBcLytV/9bZqJV/gcxCGlRZPDGo7v/94daPz3PwHfQqlDO5Xl5X169o1bM0\n",
       "xcdmlUzNlM9jWSQfuAb+8TrOOo51ySl/Kyqdgrw4AW/QkMEPgfsmN0AVZXkLuJZOfgiK6dJSeq2/\n",
       "G8W6nuoFC9vYLvePTwqpAAAARgGf9WpBLwAAAwAAAwAACjYg0QAJV3NT+Uz/dY3EsFPHd+OudWA0\n",
       "AFxqYkp8ZxJCaoAS0fNlBKUzKctOkysZwo7Vi/DgASMAAABuQZv3SeEPJlMCC3/+1qVQAAADAAAD\n",
       "AAKX+9nIh++EhDMpg+Pz83//AAnlBKJ28xjobKtaDtZbhMG1ac1nz1robCDR6Hp9sokMp8+8JE/S\n",
       "v4g6K+or9qFI7VxnnhmSUa0DnqItrtRX7i1824Uv4DsAAACNQZoZSeEPJlMFETwW//7WpVAAAAMA\n",
       "AAMAABMFoHeizd/yff6genklf34mzC7vMGAOBhKJ29/nHISubvEPjfFbbTH+lf8QNEJAjNTTKTsO\n",
       "W0wvPDz3Idvimp1gU2z1cG92lOaRFCj+7Q1se5FTmCAAvABNAVQW5bcpWa95vM+10/zE+/6Iw+Nk\n",
       "YrTnSIPnAAAASAGeOGpBLwAAAwAAAwAAAwAAJ7iB065pUpLBr6p69LL+ohkK7VjK8uqwAllxyQdx\n",
       "uxgtkkeGcsdw5ywj4ymteeR3OHh7PfoHzAAAAIVBmjtJ4Q8mUwU8Fv/+1qVQAAADAAADAAATBaB3\n",
       "osAh3Q//yNguoANpah9WAPBliP5i8ZjbNpICnA/tUijN1bN/N0mAK8LmrO+dUvewnzYKoCEMufNc\n",
       "qOqc7K7ex4Uo2YhknE/cw1D0CJq0U0AAAAVzIDaqWuVWSYFiMey1LkTgZwmJG2jBAAAAQQGeWmpB\n",
       "LwAAAwAAAwAAAwAAAwBh3MoB9FbCsogAtrWGjOxyLqc2dIoBINAVLENxzncZf+TekWMu1qMsSTHb\n",
       "3xdwAAAAq0GaX0nhDyZTAgt//talUAAAAwAAAwAAGgrRppMKzIvKABUp9H/8M+ZVy2Wk1o2W6dxU\n",
       "SVf2h47GkcLpqF2cMXvrcA3VGxt6z9i0xDvwLOjPN/v55b8NL48ShdDwwDDPgjNfP62w49l3d9zK\n",
       "OnXQ4hAGnSdPTbr84O4FO8ApVBNQlQsiiZqKTwpbAyT9de17QIdYf/WfRNWf16/LSfxqOPMAAyxY\n",
       "HatgBXwJeQAAAG5Bnn1FETwU/wAAAwAAAwAAAwAjl6+UsxRuMN21OZic+pHy6+BWNC3mqYnAAOuJ\n",
       "Kf+nqZK9lSVhYCsNsnoRPB36SZ0Sm/L3k47NCUhDXK0avWPCJUC9m4kal+yYcrfop88sKLPG+0AZ\n",
       "qqQg5OhSQQAAADIBnpx0QS8AAAMAAAMAAAMAADXtyhPtcvodaVWQoMtewUtiOvzQp8wCGylVB4DL\n",
       "dfAu4AAAAD4Bnp5qQS8AAAMAAAMAAAMAZFzKAfRWwqEJVUADs3//m3cn4ViPe1mo8gyRPfAGZD40\n",
       "YxRHLVzFGU01uAAHzAAAAK1BmoJJqEFomUwILf/+1qVQAAADAAADACqcl+DuESvgAE7qZWPUDMDZ\n",
       "NyfUHgXtNVO7wHGkz/sBB+9AdfKVrPS9S1QvR6nWKV7TLgv2qCqyoiDhJev7ZgCRDYo4fSzSwDxB\n",
       "hHKKYu7acaUlUAbniTM1gjeoN0uXAg2f4gdy2/4cFST++HvkZwFQDTFOaL68ZFnrzWtwyefSZ9tV\n",
       "AJqt/+p9aQSLtP2N3yd6aeYYMQAAAHZBnqBFESwT/wAAAwAAAwAAbIr0uNIVQO8VmJjk4UTqp72H\n",
       "5M4c8S8AH5aOQ5AyIn64I/4NiBOvNUmC4ME2dSMgZOBkEuzBa53YAHQVnA9+Ss2Qe7MmAI6/C2IT\n",
       "JUZCP2mPrsRYM36+HXHhbI3yBF7jZB6TFBLwAAAAMAGewWpBLwAAAwAAAwAAo2/0jIK5b8D6OlGD\n",
       "fHiG2Y6wuaB59WRv9IVvx6RKFSYMuQAAAOBBmsZJqEFsmUwIK//+1qVQAAADAG+3r/xnQ/qAHH3y\n",
       "9HaQY+A0c0w3COGwXe26Am/JR60VlvKp0GdHmM1UNf23P8QJN+YRPjPp8JALa2DgmDBK06E2E2+j\n",
       "flNlrfcFA/uB7T11QWugpEFQ3yGtMovbSBlMTJj5bKFwjSezosn5UXfgLErByPkbzx7nyG/3aZQQ\n",
       "BqgAASrvlT4qr7eAiX8AmN3tmLOwodGUFfKNXNaSewvCrbu4S87yeASNY835ahNEZY3lOi373fEK\n",
       "WU6Rk+UVbmhxP9BnW5wU+0LAAAAXcAAAAGFBnuRFFSwU/wAAAwAAmlcIxQAX2o+7EGHTvjWynKlF\n",
       "rLRgHYrkc1k225HqXM/wB6VlL6Tp+iRNu3Xu0ck4sv3UKBOwtWK0Qa0oRGCjd2ZVpVriKuThPkW1\n",
       "neWuAAADAEXBAAAAVQGfA3RBLwAAAwABr25Qn2uX0OtKrIUGWo0Zj6/o3CPaAC9zxN43oJLiMbX+\n",
       "VZOUX4LshIzYZuEwYnQ9Ku37jDsI4VZuBgELZ1iEVikZhzHXwAAA44EAAABDAZ8FakEvAAADAAGv\n",
       "czKTATgA2oPfS3i+D0ojMLPR5YZePHKtSnlC2DMu3BxQFD2hMsyrGyH1hvWtu8wqUAAAAwAGXQAA\n",
       "ANBBmwdJqEFsmUwIK//+1qVQAAADAG8uUOkAEY1Vby769baw5I6h0W+61pA7hBYt3HMjDTp8n2ol\n",
       "OQZrH61O+Np2pfgDf1al+3DuaV4AIk7Jl8iQFwgnp5zaQLPTg47KPFQg4//AKxLt8NtwUlVsiD60\n",
       "e7YZ/qdS2iY69jwT4mS22ykLeCTJQPI3ckBVZVYACkJZ/0fc7QJdaI/WzoWrNiEQsk0l22hUNNf0\n",
       "0OrB4DfFeFcdnf0DZnx8uWf88Qh7fFEGqVv3WWaQZUbdthNG2wLJAAAAW0GbKEnhClJlMCC3//7W\n",
       "pVAAAAMAajj1KAC2t6XwiwMF6FPf+urVFS4FCY8jWY4FrCZgH9yFz/exV/a5Fo3QAaakzpa7S4/0\n",
       "RqL99dkoV6oAV4abEuVMl4XgBqQAAACHQZtLSeEOiZTAgt/+1qVQAAADAAADABQuS/B3CLoAAHac\n",
       "AlE6FXoSX+8fFjNkp+NzF4H+yH9vAcaHdF6+QU2sGJzQstloh4BHgY6PYd8IsKwx39eskcNt5GXU\n",
       "5FnGBbDP71vdbG+pAi9FUP97p+0wywt/HyvSkI6JKrVTZb2xvKs71uTd9H1gAAAAdEGfaUURPBP/\n",
       "AAADAAADAARfqeU20SZxx7vGO70VFEuCO/hailIR9oy5k+RZIMAGyw7wVkk7uJjIeiSuNr5M03e/\n",
       "+dPkoeaDpcvx7f5FuGPRQ5K3OrQnWfPUN3zclTgJdwK1R5CvfHd+WmIDV7ETzTbFwDjhAAAAVAGf\n",
       "impBLwAAAwAAAwAGlcyzNi5GoB2huLmxapcmeSRIZgpaUADnMf5/7/gIOS16yJvwhw0TaSAQsMkS\n",
       "0p/sn8Qz/AG4jGpE6fqStJ467jnVjMA2YAAAAKlBm45JqEFomUwIK//+1qVQAAADAAADABntj5nm\n",
       "H8tLXaOCbHr2rOuh2KT2QdjuHAAAAwAGjA4P/8g/PmAE7Hc71va0uPf24w+ywTXDvShVN3B07PjO\n",
       "3IgyLaT+Rt2N/CjJfQRtfanIsFIUc9bVy0R/8sGhqMXdU3j4c6dnsdHsM5qDmc1A+7UkkfgOWvIR\n",
       "/Hi0eJortLDpgTN8beVbXCpT7vbb2BAAAKmAAAAAN0GfrEURLBP/AAADAAADAARfvqwSrgZxx7HC\n",
       "/1+sRVW2FT8BKnB4cCzThsHrFWgosR+G18AAB00AAAA2AZ/NakEvAAADAAADAAaVzLNDbGf8ZNTe\n",
       "SVI+2VVbh300eSDVIyHg0CTPNB1nuAdzTFygfAIfAAAAyUGb0UmoQWyZTAgl//61KoAAPVuP6JKH\n",
       "IcQAg4qyNIzXvwD3K57g3BqnRrCHw4RuuZTvFunwBi3Q1yFKLpc0jpBUYrHyFq1u62sFYkOnys//\n",
       "Nzo2ZfTgAAAJLXPKu7KRMTNvLv9BHf//78hR+n5J/a0VQd75djcvSXb1sqVOA5b5fgG6KWaurPEB\n",
       "tpclgb+d0SpriaSdysrkIwnW24ldZBoGu8KwkVPf5U29j8rcx6lnw+AengL+sQStk/iDGi/dw2+1\n",
       "wpItt+jPgQAAAEFBn+9FFSwT/wAAFJpJ3jSFUDvFZiY5RzgAF8iUlD30Q5zr3KGF5QzfKgTamhNY\n",
       "Cih+qNwNuu/nUOm1BNHOXay29AAAADMBnhBqQS8AAB5XJdfurlvwPo6UYfuAAXvB6QGQ4X2N1t5C\n",
       "fk/xcP7czqpxtDRHsRrq2LAAAAVTbW9vdgAAAGxtdmhkAAAAAAAAAAAAAAAAAAAD6AAAYagAAQAA\n",
       "AQAAAAAAAAAAAAAAAAEAAAAAAAAAAAAAAAAAAAABAAAAAAAAAAAAAAAAAABAAAAAAAAAAAAAAAAA\n",
       "AAAAAAAAAAAAAAAAAAAAAAAAAgAABH50cmFrAAAAXHRraGQAAAADAAAAAAAAAAAAAAABAAAAAAAA\n",
       "YagAAAAAAAAAAAAAAAAAAAAAAAEAAAAAAAAAAAAAAAAAAAABAAAAAAAAAAAAAAAAAABAAAAAAu4A\n",
       "AALuAAAAAAAkZWR0cwAAABxlbHN0AAAAAAAAAAEAAGGoAABAAAABAAAAAAP2bWRpYQAAACBtZGhk\n",
       "AAAAAAAAAAAAAAAAAABAAAAGQABVxAAAAAAALWhkbHIAAAAAAAAAAHZpZGUAAAAAAAAAAAAAAABW\n",
       "aWRlb0hhbmRsZXIAAAADoW1pbmYAAAAUdm1oZAAAAAEAAAAAAAAAAAAAACRkaW5mAAAAHGRyZWYA\n",
       "AAAAAAAAAQAAAAx1cmwgAAAAAQAAA2FzdGJsAAAAuXN0c2QAAAAAAAAAAQAAAKlhdmMxAAAAAAAA\n",
       "AAEAAAAAAAAAAAAAAAAAAAAAAu4C7gBIAAAASAAAAAAAAAABAAAAAAAAAAAAAAAAAAAAAAAAAAAA\n",
       "AAAAAAAAAAAAAAAAGP//AAAAN2F2Y0MBZAAf/+EAGmdkAB+s2UC8F/qoQAAAAwBAAAADAQPGDGWA\n",
       "AQAGaOvjyyLA/fj4AAAAABx1dWlka2hA8l8kT8W6OaUbzwMj8wAAAAAAAAAYc3R0cwAAAAAAAAAB\n",
       "AAAAMgAAIAAAAAAUc3RzcwAAAAAAAAABAAAAAQAAAWhjdHRzAAAAAAAAACsAAAABAABAAAAAAAEA\n",
       "AGAAAAAAAQAAIAAAAAABAABAAAAAAAEAAGAAAAAAAQAAIAAAAAACAABAAAAAAAEAAIAAAAAAAgAA\n",
       "IAAAAAABAABgAAAAAAEAACAAAAAAAQAAQAAAAAABAABgAAAAAAEAACAAAAAAAQAAQAAAAAABAABg\n",
       "AAAAAAEAACAAAAAAAQAAYAAAAAABAAAgAAAAAAEAAGAAAAAAAQAAIAAAAAABAABAAAAAAAEAAGAA\n",
       "AAAAAQAAIAAAAAABAABgAAAAAAEAACAAAAAAAQAAoAAAAAABAABAAAAAAAEAAAAAAAAAAQAAIAAA\n",
       "AAABAACAAAAAAAIAACAAAAAAAQAAoAAAAAABAABAAAAAAAEAAAAAAAAAAQAAIAAAAAACAABAAAAA\n",
       "AAEAAIAAAAAAAgAAIAAAAAABAACAAAAAAAIAACAAAAAAAQAAgAAAAAACAAAgAAAAABxzdHNjAAAA\n",
       "AAAAAAEAAAABAAAAMgAAAAEAAADcc3RzegAAAAAAAAAAAAAAMgAABAYAAAB/AAAANwAAAKsAAAC0\n",
       "AAAASQAAAGgAAABSAAAATQAAAD8AAABbAAAAjAAAADAAAACoAAAAxwAAADsAAABVAAAAogAAADAA\n",
       "AAC/AAAAPQAAAK0AAABKAAAAcgAAAJEAAABMAAAAiQAAAEUAAACvAAAAcgAAADYAAABCAAAAsQAA\n",
       "AHoAAAA0AAAA5AAAAGUAAABZAAAARwAAANQAAABfAAAAiwAAAHgAAABYAAAArQAAADsAAAA6AAAA\n",
       "zQAAAEUAAAA3AAAAFHN0Y28AAAAAAAAAAQAAADAAAABhdWR0YQAAAFltZXRhAAAAAAAAACFoZGxy\n",
       "AAAAAAAAAABtZGlyYXBwbAAAAAAAAAAAAAAAACxpbHN0AAAAJKl0b28AAAAcZGF0YQAAAAEAAAAA\n",
       "TGF2ZjYxLjcuMTAw\n",
       "\">\n",
       "  Your browser does not support the video tag.\n",
       "</video>"
      ],
      "text/plain": [
       "<IPython.core.display.HTML object>"
      ]
     },
     "execution_count": 608,
     "metadata": {},
     "output_type": "execute_result"
    }
   ],
   "source": [
    "figsize = 5\n",
    "size = 7\n",
    "\n",
    "def image(maze):\n",
    "    img = plt.imshow(maze, cmap='binary', animated=True)\n",
    "    plt.axis('off')\n",
    "\n",
    "    return img\n",
    "\n",
    "def images(size):\n",
    "    images = []\n",
    "\n",
    "    maze = np.ones((size*2+1, size*2+1))\n",
    "\n",
    "    x, y = (0, 0)\n",
    "    maze[2*x+1, 2*y+1] = 0\n",
    "\n",
    "    stack = [(x, y)]\n",
    "\n",
    "    images.append([image(maze)])\n",
    "\n",
    "    while stack:\n",
    "        x, y = stack[-1]\n",
    "\n",
    "        directions = [(1, 0), (-1, 0), (0, -1), (0, 1)]\n",
    "\n",
    "        np.random.shuffle(directions)\n",
    "\n",
    "        for dx, dy in directions:\n",
    "\n",
    "            nx, ny = x + dx, y + dy\n",
    "\n",
    "            if nx >= 0 and ny >= 0 and nx < size and ny < size and maze[2*nx+1, 2*ny+1] == 1:\n",
    "                maze[2*nx+1, 2*ny+1] = 0\n",
    "                maze[2*x+1+dx, 2*y+1+dy] = 0\n",
    "                stack.append((nx, ny))\n",
    "                images.append([image(maze)])\n",
    "                break\n",
    "        else:\n",
    "            stack.pop()\n",
    "\n",
    "    maze[0, 1] = 0\n",
    "    maze[-1, -2] = 0\n",
    "\n",
    "    images.append([image(maze)])\n",
    "\n",
    "    return images\n",
    "\n",
    "fig = plt.figure(figsize=(figsize, figsize))\n",
    "\n",
    "a = ani.ArtistAnimation(fig, images(size), interval=500)\n",
    "\n",
    "html = a.to_html5_video()\n",
    "\n",
    "HTML(html)"
   ]
  },
  {
   "cell_type": "markdown",
   "metadata": {},
   "source": [
    "---\n",
    "\n",
    "### Exercise 2a\n",
    "\n",
    "What would happen if we removed the line\n",
    "\n",
    "```python\n",
    "maze[2*x+1+dx, 2*y+1+dy] = 0\n",
    "```\n",
    "\n",
    "### Exercise 2b\n",
    "\n",
    "What would happen if we removed the line\n",
    "\n",
    "```python\n",
    "np.random.shuffle(directions)\n",
    "```\n",
    "\n",
    "(observe the order in which the `directions` are defined)"
   ]
  },
  {
   "cell_type": "markdown",
   "metadata": {},
   "source": [
    "# TODO: Another algorithm? Labyrinths? (hamiltonian path)"
   ]
  },
  {
   "cell_type": "markdown",
   "metadata": {},
   "source": [
    "---\n",
    "## Solutions\n",
    "### Exercise 1\n",
    "```python\n",
    "for i in range(matrix.shape[0]): # loop through rows\n",
    "    for j in range(matrix.shape[1]): # loop thrgouh columns\n",
    "        if np.random.random() > .5: # 50 % chance of creating an empty cell\n",
    "            matrix[i, j] = 0 # make the cell empty\n",
    "```\n",
    "\n",
    "### Exercise 2a\n",
    "we would get exactly the grid of empty cells surrounded by 1-thick walls\n",
    "### Exercise 2b\n",
    "We would get a vertically zig-zagging labyrinth (for odd numbered sizes)"
   ]
  },
  {
   "cell_type": "markdown",
   "metadata": {},
   "source": []
  }
 ],
 "metadata": {
  "kernelspec": {
   "display_name": "Python 3",
   "language": "python",
   "name": "python3"
  },
  "language_info": {
   "codemirror_mode": {
    "name": "ipython",
    "version": 3
   },
   "file_extension": ".py",
   "mimetype": "text/x-python",
   "name": "python",
   "nbconvert_exporter": "python",
   "pygments_lexer": "ipython3",
   "version": "3.12.5"
  }
 },
 "nbformat": 4,
 "nbformat_minor": 4
}
