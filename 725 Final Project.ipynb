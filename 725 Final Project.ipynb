{
 "cells": [
  {
   "cell_type": "markdown",
   "id": "711103",
   "metadata": {
    "collapsed": false
   },
   "source": [
    "# Final Project\n",
    "\n",
    "## Title: Automatic Maze Generation with Various Algorithms\n",
    "\n",
    "### Author: Vinny Sun\n",
    "\n"
   ]
  },
  {
   "cell_type": "markdown",
   "id": "1d49bf",
   "metadata": {
    "collapsed": false
   },
   "source": [
    "Feedback on Abstract:\n",
    "\n",
    "This sounds like a very interesting project! Below are recommendations how to make the notebook reader-friendly:\n",
    "\n",
    "- to be successful, the project should focus in on only one (or at most two) topics; \n",
    "- it would help to start with simple examples that can be computed by hand;\n",
    "- describe the basic idea behind your algorithm in words;\n",
    "- where possible, show the functioning of subcomponents of your algorithm, in addition to the functioning of the whole thing;\n",
    "- the nice thing about Python is that when you look at the docs, every function comes with its source file (look to the right for the link [source]), so you can inspect it, play around with it, use it to explain it etc; \n",
    "- give some relevant citations;"
   ]
  },
  {
   "cell_type": "markdown",
   "id": "bcbbd0",
   "metadata": {
    "collapsed": false
   },
   "source": [
    "Mazes can be generated algorithmically in many ways. We will define a maze as a [square lattice graph](https://en.wikipedia.org/wiki/Lattice_graph) with some edges removed such that there is a path from a starting point to an ending point. It would also be nice if this maze was interesting enough to be \"fun\" for the maze solver. We will look through various algorithms to \n",
    "- remove edges from a square lattice graph\n",
    "- create mazes\n",
    "\n",
    "Some of these mazes will be [perfect mazes](https://professor-l.github.io/mazes). Inspiration for the ideas and algorithms come from [here](https://weblog.jamisbuck.org/2011/2/7/maze-generation-algorithm-recap) and [here](https://en.wikipedia.org/wiki/Maze_generation_algorithm) with ideas for the implementation coming from [here](https://medium.com/@msgold/using-python-to-create-and-solve-mazes-672285723c96).\n"
   ]
  },
  {
   "cell_type": "markdown",
   "id": "d37e4b",
   "metadata": {
    "collapsed": false
   },
   "source": [
    "---\n",
    "We start by importing necessary packages"
   ]
  },
  {
   "cell_type": "code",
   "execution_count": 3,
   "id": "000d44",
   "metadata": {
    "collapsed": false
   },
   "outputs": [
   ],
   "source": [
    "import matplotlib.pyplot as plt\n",
    "import numpy as np\n",
    "import networkx as nx"
   ]
  },
  {
   "cell_type": "markdown",
   "id": "3ed371",
   "metadata": {
    "collapsed": false
   },
   "source": [
    "From [here](https://en.wikipedia.org/wiki/Maze_generation_algorithm), a maze can be seen as subgraph of a connected planar graph where the nodes are cells and the edges are possible wall sites and there is a challenging route from one node to another. Thus,"
   ]
  },
  {
   "cell_type": "code",
   "execution_count": 0,
   "id": "39eea8",
   "metadata": {
    "collapsed": false
   },
   "outputs": [
   ],
   "source": [
   ]
  }
 ],
 "metadata": {
  "kernelspec": {
   "argv": [
    "/usr/bin/python3",
    "-m",
    "ipykernel",
    "--HistoryManager.enabled=False",
    "--matplotlib=inline",
    "-c",
    "%config InlineBackend.figure_formats = set(['retina'])\nimport matplotlib; matplotlib.rcParams['figure.figsize'] = (12, 7)",
    "-f",
    "{connection_file}"
   ],
   "display_name": "Python 3 (system-wide)",
   "env": {
   },
   "language": "python",
   "metadata": {
    "cocalc": {
     "description": "Python 3 programming language",
     "priority": 100,
     "url": "https://www.python.org/"
    }
   },
   "name": "python3",
   "resource_dir": "/ext/jupyter/kernels/python3"
  },
  "language_info": {
   "codemirror_mode": {
    "name": "ipython",
    "version": 3
   },
   "file_extension": ".py",
   "mimetype": "text/x-python",
   "name": "python",
   "nbconvert_exporter": "python",
   "pygments_lexer": "ipython3",
   "version": "3.8.10"
  }
 },
 "nbformat": 4,
 "nbformat_minor": 4
}