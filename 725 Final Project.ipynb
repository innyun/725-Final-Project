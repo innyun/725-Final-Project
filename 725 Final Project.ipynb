{
 "cells": [
  {
   "cell_type": "markdown",
   "id": "711103",
   "metadata": {
    "collapsed": false
   },
   "source": [
    "# Final Project\n",
    "\n",
    "## Title: Automatic Maze Generation with Various Algorithms\n",
    "\n",
    "### Author: Vinny Sun\n",
    "\n",
    "##### Permission to share ✅"
   ]
  },
  {
   "cell_type": "markdown",
   "id": "bcbbd0",
   "metadata": {
    "collapsed": false
   },
   "source": [
    "Though the terms labyrinth and maze are generally synonymous in English today, many scholars will differentiate them with the fact labyrinths have no branching paths (they are [unicursal](https://www.oed.com/dictionary/unicursal_adj?tab=meaning_and_use&tl=true)) while mazes have branching paths (they are multicursal). [Labyrinths](https://en.wikipedia.org/wiki/Labyrinth) in particular have over 3000 years of history. However, since they have no branching, they don't make for a very interesting 2D puzzle. On the other hand, [mazes](http://www.unmuseum.org/maze.htm) have a shorter history but are much more interesting as a 2D puzzle. Both labyrinths and mazes can be generated algorithmically in many ways.\n",
    "\n",
    "Inspiration for the ideas and algorithms come from [here](https://weblog.jamisbuck.org/2011/2/7/maze-generation-algorithm-recap) and [here](https://en.wikipedia.org/wiki/Maze_generation_algorithm), with ideas for the implementation coming from [here](https://medium.com/@msgold/using-python-to-create-and-solve-mazes-672285723c96).\n"
   ]
  },
  {
   "cell_type": "markdown",
   "id": "d37e4b",
   "metadata": {
    "collapsed": false
   },
   "source": [
    "---\n",
    "We start by (optionally downloading and) importing necessary packages"
   ]
  },
  {
   "cell_type": "code",
   "execution_count": null,
   "metadata": {},
   "outputs": [],
   "source": [
    "%pip install matplotlib\n",
    "%pip install numpy"
   ]
  },
  {
   "cell_type": "code",
   "execution_count": 673,
   "id": "000d44",
   "metadata": {
    "collapsed": false
   },
   "outputs": [],
   "source": [
    "import matplotlib.pyplot as plt\n",
    "import matplotlib.animation as ani\n",
    "import numpy as np\n",
    "from IPython.display import HTML\n",
    "import random"
   ]
  },
  {
   "cell_type": "markdown",
   "metadata": {},
   "source": [
    "---\n",
    "\n",
    "First, we'll take a brief look at how to visualze a matrix. "
   ]
  },
  {
   "cell_type": "code",
   "execution_count": 727,
   "metadata": {},
   "outputs": [],
   "source": [
    "def draw(maze, figsize=5):\n",
    "    plt.figure(figsize=(figsize, figsize))\n",
    "\n",
    "    plt.imshow(maze, cmap='binary')\n",
    "    \n",
    "    plt.axis('off')\n",
    "    plt.show()"
   ]
  },
  {
   "cell_type": "markdown",
   "metadata": {},
   "source": [
    "In this notebook, we will denote walls with 1 and empty cells with 0 (this makes drawing easier). The drawing function (above) will take a matrix (2d array) of these 1s and 0s and show the corresponding image. For example, given the matrix\n",
    "\n",
    "$$\\begin{matrix}\n",
    "    1 & 1 & 1 \\\\\n",
    "    0 & 0 & 0 \\\\\n",
    "    1 & 1 & 1\n",
    "\\end{matrix}$$\n",
    "\n",
    "the corresponding image would be"
   ]
  },
  {
   "cell_type": "code",
   "execution_count": 621,
   "metadata": {},
   "outputs": [
    {
     "data": {
      "image/png": "[encoded data removed]",
      "text/plain": [
       "<Figure size 450x450 with 1 Axes>"
      ]
     },
     "metadata": {},
     "output_type": "display_data"
    }
   ],
   "source": [
    "matrix = np.array(\n",
    "    [[1, 1, 1], \n",
    "     [0, 0, 0], \n",
    "     [1, 1, 1]])\n",
    "draw(matrix, figsize=3)"
   ]
  },
  {
   "cell_type": "markdown",
   "metadata": {},
   "source": [
    "Here, there are two rows of walls on the top and bottom and a row of empty cells acorss the middle. Of course, this isn't a very interesting puzzle."
   ]
  },
  {
   "cell_type": "markdown",
   "metadata": {},
   "source": [
    "---\n",
    "\n",
    "### Exercise 1\n",
    "\n",
    "For our algorithms, we will always start with a full matrix of ones (grid of walls). We can begin by just removing some random subset of walls (of course there is little chance this is actually a maze / labyrinth). Fill in the blanks to generate this random matirx.  \n"
   ]
  },
  {
   "cell_type": "code",
   "execution_count": 622,
   "metadata": {},
   "outputs": [],
   "source": [
    "def random_removal(size, seed=None):\n",
    "    \"\"\"generates a random matrix of ones and zeros\n",
    "\n",
    "    Args:\n",
    "        size (int): size of a dimension of the matrix\n",
    "        seed (int, optional): seed for random generation. Defaults to None.\n",
    "\n",
    "    Returns:\n",
    "        2d numpy array: matrix of 1 and 0\n",
    "    \"\"\"\n",
    "\n",
    "    np.random.seed(seed)\n",
    "\n",
    "    matrix = np.ones((size, size)) # initialize a grid of walls\n",
    "\n",
    "    for i in range(____): # loop through rows\n",
    "        for j in range(____): # loop thrgouh columns\n",
    "            if np.random.random() > ____: # 50 % chance of creating an empty cell\n",
    "                matrix[i, j] = ____ # make the cell empty\n",
    "    \n",
    "    return matrix"
   ]
  },
  {
   "cell_type": "markdown",
   "metadata": {},
   "source": [
    "If done properly, the drawn matrix below will look like\n",
    "\n",
    "<img src=\"./random matrix.png\" alt=\"random matrix\" width=\"200\"/>"
   ]
  },
  {
   "cell_type": "code",
   "execution_count": 832,
   "metadata": {},
   "outputs": [
    {
     "ename": "NameError",
     "evalue": "name '____' is not defined",
     "output_type": "error",
     "traceback": [
      "\u001b[0;31m---------------------------------------------------------------------------\u001b[0m",
      "\u001b[0;31mNameError\u001b[0m                                 Traceback (most recent call last)",
      "Cell \u001b[0;32mIn[832], line 1\u001b[0m\n\u001b[0;32m----> 1\u001b[0m draw(\u001b[43mrandom_removal\u001b[49m\u001b[43m(\u001b[49m\u001b[38;5;241;43m10\u001b[39;49m\u001b[43m,\u001b[49m\u001b[43m \u001b[49m\u001b[38;5;241;43m0\u001b[39;49m\u001b[43m)\u001b[49m, \u001b[38;5;241m3\u001b[39m)\n",
      "Cell \u001b[0;32mIn[622], line 16\u001b[0m, in \u001b[0;36mrandom_removal\u001b[0;34m(size, seed)\u001b[0m\n\u001b[1;32m     12\u001b[0m np\u001b[38;5;241m.\u001b[39mrandom\u001b[38;5;241m.\u001b[39mseed(seed)\n\u001b[1;32m     14\u001b[0m matrix \u001b[38;5;241m=\u001b[39m np\u001b[38;5;241m.\u001b[39mones((size, size)) \u001b[38;5;66;03m# initialize a grid of walls\u001b[39;00m\n\u001b[0;32m---> 16\u001b[0m \u001b[38;5;28;01mfor\u001b[39;00m i \u001b[38;5;129;01min\u001b[39;00m \u001b[38;5;28mrange\u001b[39m(\u001b[43m____\u001b[49m): \u001b[38;5;66;03m# loop through rows\u001b[39;00m\n\u001b[1;32m     17\u001b[0m     \u001b[38;5;28;01mfor\u001b[39;00m j \u001b[38;5;129;01min\u001b[39;00m \u001b[38;5;28mrange\u001b[39m(____): \u001b[38;5;66;03m# loop thrgouh columns\u001b[39;00m\n\u001b[1;32m     18\u001b[0m         \u001b[38;5;28;01mif\u001b[39;00m np\u001b[38;5;241m.\u001b[39mrandom\u001b[38;5;241m.\u001b[39mrandom() \u001b[38;5;241m>\u001b[39m ____: \u001b[38;5;66;03m# 50 % chance of creating an empty cell\u001b[39;00m\n",
      "\u001b[0;31mNameError\u001b[0m: name '____' is not defined"
     ]
    }
   ],
   "source": [
    "draw(random_removal(10, 0), 3)"
   ]
  },
  {
   "cell_type": "markdown",
   "metadata": {},
   "source": [
    "Of course, there are more elegant solutions. One is below. (It won't generate the same matrix)"
   ]
  },
  {
   "cell_type": "code",
   "execution_count": 833,
   "metadata": {},
   "outputs": [
    {
     "data": {
      "image/png": "[encoded data removed]",
      "text/plain": [
       "<Figure size 300x300 with 1 Axes>"
      ]
     },
     "metadata": {},
     "output_type": "display_data"
    }
   ],
   "source": [
    "draw(np.random.randint(2, size=(10, 10)), figsize=2)"
   ]
  },
  {
   "cell_type": "markdown",
   "metadata": {},
   "source": [
    "Now we create a maze. We will define a maze as a matrix of cells with two types of entries - empty and wall - such that there is a path (of empty cells) from an entrance to an exit and the path contains some unused branches (so it isn't a labyrinth). It would also be nice if this maze was interesting enough to be \"fun\" for the maze solver."
   ]
  },
  {
   "cell_type": "markdown",
   "metadata": {},
   "source": [
    "---\n",
    "\n",
    "As seen above, we can't just remove walls anywhere. For example, we can't have four adjacent empty cells in a 2x2 grid, and all paths must be separated a wall with thickness exactly one. To create a valid maze, we actually need to work with a larger grid. Given a size, we will make a grid of $(\\text{size}*2+1, \\ \\text{size}*2+1)$."
   ]
  },
  {
   "cell_type": "markdown",
   "metadata": {},
   "source": [
    "If we visualize the $(\\text{size}, \\text{size})$ grid with walls of thickness 0 like below,"
   ]
  },
  {
   "cell_type": "code",
   "execution_count": 633,
   "metadata": {},
   "outputs": [
    {
     "data": {
      "image/png": "[encoded data removed]",
      "text/plain": [
       "<Figure size 750x750 with 1 Axes>"
      ]
     },
     "metadata": {},
     "output_type": "display_data"
    }
   ],
   "source": [
    "plt.figure(figsize=(5, 5))\n",
    "plt.grid(True)\n",
    "plt.xticks(range(10), labels=[''] * 10)\n",
    "plt.yticks(range(10), labels=[''] * 10)\n",
    "plt.show()\n"
   ]
  },
  {
   "cell_type": "markdown",
   "metadata": {},
   "source": [
    "the we can visualize the $(\\text{size}*2+1, \\text{size}*2+1)$ grid as having walls of thickness 1."
   ]
  },
  {
   "cell_type": "code",
   "execution_count": 834,
   "metadata": {},
   "outputs": [
    {
     "data": {
      "image/png": "[encoded data removed]",
      "text/plain": [
       "<Figure size 750x750 with 1 Axes>"
      ]
     },
     "metadata": {},
     "output_type": "display_data"
    }
   ],
   "source": [
    "grid = np.ones((21, 21))\n",
    "\n",
    "for x in range(1, grid.shape[0] - 1, 2):\n",
    "    for y in range(1, grid.shape[1] - 1, 2):\n",
    "        grid[x, y] = 0\n",
    "\n",
    "draw(grid)"
   ]
  },
  {
   "cell_type": "markdown",
   "metadata": {},
   "source": [
    "We need our function to return the above grid with walls removed to create a valid maze that can be drawn with our existing drawing function (drawing 1-thick walls is much easier than drawing 0-thick walls)"
   ]
  },
  {
   "cell_type": "markdown",
   "metadata": {},
   "source": [
    "To start, we'll initialize the $(\\text{size}*2+1, \\text{size}*2+1)$ grid to all ones. We'll create the maze by *backtracking*. This algorithm continously extends the maze in a random valid direction until it reaches an unextendable point. Then, it will backtrack to a previously visited point in the maze and try to extend in a different direction than previously. When the algorithm terminates, we will have a fully filled maze, and we'll just need to remove two walls for the entrace and exit. \n",
    "\n",
    "Try to understand the below code (the stack data structure is explained after)"
   ]
  },
  {
   "cell_type": "code",
   "execution_count": 667,
   "metadata": {},
   "outputs": [],
   "source": [
    "def backtracking(size):\n",
    "    \"\"\"Creates a maze of size*2+1 by size*2+1 through backtracking\n",
    "        (not size by size since we need 1-thick walls, not 0-thick walls)\n",
    "\n",
    "    Args:\n",
    "        size (int): size of grid\n",
    "\n",
    "    Returns:\n",
    "        2d numpy array: maze to draw\n",
    "    \"\"\"\n",
    "\n",
    "    # create the matrix of ones\n",
    "    maze = np.ones((size*2+1, size*2+1))\n",
    "\n",
    "    # starting location\n",
    "    x, y = (0, 0)\n",
    "\n",
    "    # set starting location in the maze empty cell\n",
    "    maze[2*x+1, 2*y+1] = 0\n",
    "\n",
    "    # initialize the stack of cells to check\n",
    "    stack = [(x, y)]\n",
    "\n",
    "    # while the stack is not empty\n",
    "    while stack:\n",
    "        # get the top item in the stack\n",
    "        x, y = stack[-1]\n",
    "\n",
    "        # initialize the list of possible directions (up, down, left, right)\n",
    "        directions = [(1, 0), (-1, 0), (0, -1), (0, 1)]\n",
    "\n",
    "        # shuffle the above directions list to have the maze generate in random directions\n",
    "        np.random.shuffle(directions)\n",
    "\n",
    "        # loop through the four directions\n",
    "        for dx, dy in directions:\n",
    "\n",
    "            # the next cells to check\n",
    "            nx, ny = x + dx, y + dy\n",
    "\n",
    "            # if the next cell is valid\n",
    "            if nx >= 0 and ny >= 0 and nx < size and ny < size and maze[2*nx+1, 2*ny+1] == 1:\n",
    "                # set the next cell to empty\n",
    "                maze[2*nx+1, 2*ny+1] = 0\n",
    "                # set the wall between current cell and next cell to empty\n",
    "                maze[2*x+1+dx, 2*y+1+dy] = 0\n",
    "                # push the next cell on the stack\n",
    "                stack.append((nx, ny))\n",
    "                break\n",
    "        else:\n",
    "            # if no valid cells to move to, remove the cell from the stack\n",
    "            stack.pop()\n",
    "\n",
    "    # create entrance and exit    \n",
    "    maze[0, 1] = 0\n",
    "    maze[-1, -2] = 0\n",
    "\n",
    "    return maze"
   ]
  },
  {
   "cell_type": "code",
   "execution_count": 668,
   "metadata": {},
   "outputs": [
    {
     "data": {
      "image/png": "[encoded data removed]",
      "text/plain": [
       "<Figure size 750x750 with 1 Axes>"
      ]
     },
     "metadata": {},
     "output_type": "display_data"
    }
   ],
   "source": [
    "draw(backtracking(20))"
   ]
  },
  {
   "cell_type": "markdown",
   "metadata": {},
   "source": [
    "The above algorithm uses a data structure called a *stack* (implemented with a python list) to keep track of the nodes that can still be expanded (at least one of the 4 directions is still free). A stack has *last-in-first-out* (LIFO) structure, where elements inserted last will be accessed first. You can think of this like a stack of trays. As you put new trays on top of the stack, these newer trays will be taken first. In stack terminology, you add items by *pushing* them and you remove items by *popping* them. \n",
    "\n",
    "(also side note, if the (x,y) and row/column are confusing, see [this](https://stackoverflow.com/questions/2203525/are-the-x-y-and-row-col-attributes-of-a-two-dimensional-array-backwards))"
   ]
  },
  {
   "cell_type": "markdown",
   "metadata": {},
   "source": [
    "Here is a visualization of the algorithm on a smaller maze to aid in understanding (this could take a while to run)"
   ]
  },
  {
   "cell_type": "code",
   "execution_count": 662,
   "metadata": {},
   "outputs": [
    {
     "data": {
      "text/html": [
       "<video width=\"750\" height=\"750\" controls autoplay loop>\n",
       "  <source type=\"video/mp4\" src=\"data:video/mp4;base64,AAAAIGZ0eXBNNFYgAAACAE00ViBpc29taXNvMmF2YzEAAAAIZnJlZQAAGaNtZGF0AAACrgYF//+q\n",
       "3EXpvebZSLeWLNgg2SPu73gyNjQgLSBjb3JlIDE2NCByMzEwOCAzMWUxOWY5IC0gSC4yNjQvTVBF\n",
       "Ry00IEFWQyBjb2RlYyAtIENvcHlsZWZ0IDIwMDMtMjAyMyAtIGh0dHA6Ly93d3cudmlkZW9sYW4u\n",
       "b3JnL3gyNjQuaHRtbCAtIG9wdGlvbnM6IGNhYmFjPTEgcmVmPTMgZGVibG9jaz0xOjA6MCBhbmFs\n",
       "eXNlPTB4MzoweDExMyBtZT1oZXggc3VibWU9NyBwc3k9MSBwc3lfcmQ9MS4wMDowLjAwIG1peGVk\n",
       "X3JlZj0xIG1lX3JhbmdlPTE2IGNocm9tYV9tZT0xIHRyZWxsaXM9MSA4eDhkY3Q9MSBjcW09MCBk\n",
       "ZWFkem9uZT0yMSwxMSBmYXN0X3Bza2lwPTEgY2hyb21hX3FwX29mZnNldD0tMiB0aHJlYWRzPTEy\n",
       "IGxvb2thaGVhZF90aHJlYWRzPTIgc2xpY2VkX3RocmVhZHM9MCBucj0wIGRlY2ltYXRlPTEgaW50\n",
       "ZXJsYWNlZD0wIGJsdXJheV9jb21wYXQ9MCBjb25zdHJhaW5lZF9pbnRyYT0wIGJmcmFtZXM9MyBi\n",
       "X3B5cmFtaWQ9MiBiX2FkYXB0PTEgYl9iaWFzPTAgZGlyZWN0PTEgd2VpZ2h0Yj0xIG9wZW5fZ29w\n",
       "PTAgd2VpZ2h0cD0yIGtleWludD0yNTAga2V5aW50X21pbj0yIHNjZW5lY3V0PTQwIGludHJhX3Jl\n",
       "ZnJlc2g9MCByY19sb29rYWhlYWQ9NDAgcmM9Y3JmIG1idHJlZT0xIGNyZj0yMy4wIHFjb21wPTAu\n",
       "NjAgcXBtaW49MCBxcG1heD02OSBxcHN0ZXA9NCBpcF9yYXRpbz0xLjQwIGFxPTE6MS4wMACAAAAB\n",
       "UGWIhAAV//73ye/AputbW7W/k89I/Cy3PsIqP25bE7TqAAADAAADAAADAAEjUM2FDy7Nb6WwAAAD\n",
       "AFWADBgTsDTqT+gFy//xAGzz/86zAnFpRRja+aRMOjm90AjAKC09q8tGAG4KNsRZGnDg5fds4zbW\n",
       "FgAAafJu8NXwvSxdFiC/seuPC4LDK3JsTnFmGsTgmmKKwP+5EFU7pY0/HgEl4y7Us+/c+0xb4DcB\n",
       "nzFSGx/qA/PTVd1aZnRszCjmP5pHw31AE7tNWSy5S+wJXAl932cP2AUMu4PUH0AAAAMAAAMAAAMA\n",
       "AAMAAAMAAAMAAAMAAAMAAAMAAAMAAAMAAAMAAAMAAAMAAAMAAAMAAAMAAAMAAAMAAAMBFNndr+X0\n",
       "X/5xLbkTLWu51u+MFnbbgArCUyV36wCm4QlIFiix4csOuyqDxJaMAAADAAADAAADAADYgQAAAHtB\n",
       "miJsQV/+1qVQAACu/cgPnHBNf17DXWo6EqAoCQKZbBY8cafKebod/ZefTqrK/6XV5vxQVL1CTOL9\n",
       "O1Z7exRU7WyA2/iANYA1AVIYtDPzezZZFPmdTnFHcSjZBB63v8yUEXYGpYb6L4UUCglY1MXrtChi\n",
       "84Qfi74AQ8AAAAAzAZ5BeQS/AAADAp+IHTrmlSksGvqnqvPEHGkX6m36lFIqXWHPGpujMolAAAAD\n",
       "AAADAB9xAAAAp0GaQzwhkymEFv/+1qVQAAADAF45LQTY+SPAAdF1L4uqMcYPa/wyTr+Embpmb4pm\n",
       "oQ/9Ml7JBMTQYPivI3oySn7MnKU9+anUo15xjd0i6xabxurZhMICgtTc/ofL86VrtR6cK3l8Aayg\n",
       "gLR5zRPYt+m2PjnE9E1nZtOBXF/W6Q9dVuVNYLP6pQ2W+5AWeug2orkuJtJRtdKLw8IDreSB0ftC\n",
       "Q+ulqZUKAAAA6EGaZknhDyZTAgr//talUAAAjPQf/yPD+IChOg77d+Qwt8drwp+LVQl+ENfOUYqc\n",
       "qMGqEL/hYlN4OjEPYDP5e8W/lZnnO0EOuajRdJZO+fjTKibY6ppC/s6aOyyA6BJ334AJ9VhWIc0x\n",
       "TT8Fony08NhxyWdPzXntiDrukUDC1iousFadZmBuV0/QOrXIUT3lYHyOiFfeIq12Gx9bcqvgUsXx\n",
       "GlE/w8gqvslA/O3iRv9aQSldg7yP4MUAalu+4VdbJqGM0MJioXepCj7IYLH/93SEQkBp6Y2AY5ja\n",
       "3svUuE8AAAMAAAMAAZ8AAABPQZ6ERRE8E/8AAAMBbYzkVD8c3AB/W53grcR7vDJFBN3lO2mG/q2M\n",
       "aS7i1Zrxs5qPvfGw6gok0td1s65DgdZ1oZptfhRG3AAAAwAAAwABNwAAAEIBnqVqQS8AAAMB+0vz\n",
       "scC0yI6gvVPVeeJeNIvz5eMS/08ACdciH/09TKq3CzUuRA44RsPX5m2+zlSAAAADAAADAu8AAAB4\n",
       "QZqnSahBaJlMCCv//talUAAAAwBIeR/fqx+n8QCbGV1/8FmzYFFKKW7XK2Ytv8bEpvBxfG27FK36\n",
       "aPOcrrHa1bICDhHC6a91u6yuXLnoEeJO8zayPx0LuyTV6b7SK9We7RU2RAsGt2v6oXyB8cSdAAAD\n",
       "AAADAAaFAAAAkkGayEnhClJlMCC3//7WpVAAAAMASB6G+gBxjBnMyuYf/gdhAe2EZZ+qnh78nn5z\n",
       "YIRF9VkAqytLQ8ejSLGI3/WOKXp2/9MzPt/buflvOsA/DOqeqFt6XZSYRc1AoZzNZ1QSHn5Vpx9r\n",
       "zOup8pfARJtkThD7aL5sQY0Bb4+BGzbeuP1Ihx6hbfhAAAADAAADAEHAAAAAi0Ga6knhDomUwU0T\n",
       "Bb/+1qVQAAADAEZ/tsmUxdUPMALkNR5+QwYErSQmQ+KUwCD9vn/4J90Bj/fFPQ05n3A1I6u3+KRf\n",
       "LJ5NplxPca5b9W/dsZAAEQWOcCZVfLKE+bQ8D9cQjP/mT47XebQYPHXpsHu+yppevKM0WuUZmhks\n",
       "3D6XrRAAAAMAAAMAH+AAAABQAZ8JakEvAAADAAENDA6dc0qUb2NC2Q7Z1EvwnULEAAA5tvUe/N/w\n",
       "Bpeu06UAIEkN+185V/2J95eNN8Qvkb4rCuNqLZHcEngAAAMAAAMAW0EAAAB8QZsMSeEPJlMFPBb/\n",
       "/talUAAAAwAAKpyX/zIp/wADcyH1YoqMmNMTHzPHdPj8ZLUBRRLYE5I2/57/QXIL8ID/G9CG83mG\n",
       "YYJbe/5oQ1phSqtP2pX9+R3a68onYYaqrHNTGeQc9kbcN9wAAAMBAwAAAwAW4qplgAAAAwABQQAA\n",
       "ACwBnytqQS8AAAMAAAMAo2/0jIKthTlrbvhJvqiXEjZSaM9IEEgAAAMAAAMCtgAAAEFBmy5J4Q8m\n",
       "UwU8Fv/+1qVQAAADAAJD/bZduaOvSjUr/qB6eSWADMPtKbm1os66mYAAAC+AAABD6qVQAAADAAAP\n",
       "SQAAAC4Bn01qQS8AAAMAAAMAzbmUA+ithuf+OnaxaLUvGwwWdX9NJ6Az9AAAAwAAAwIPAAAARkGb\n",
       "UEnhDyZTBTwW//7WpVAAAAMAAlC0DuW2YWFUltKsXkDO/TSSe/uN6fKnjibqhTMAAAMAAAkAAAMA\n",
       "IjKlUAAAAwAABi0AAAAvAZ9vakEvAAADAAADAQUn6RkFWwp6R1H4l948Rrz22tnsE4TofNBtAAAD\n",
       "AAADAu4AAADJQZtzSeEPJlMCCv/+1qVQAAADAG+3r/xnQXQCbKXU8t2GcaE050SU1zHaLmCyDOcl\n",
       "Dagv37PYCus3GX5ppEWIujha+OVUcccEGRZGw2cJAlvzKeBkYlXJubnQ8dUm9dIkhSysWPmLFf37\n",
       "ebbm8dMuKKtLtgWcMk6ITttSj9gahBmia/7L0gs1YqruwJx9LTbCAXzeQVw5pVFDM4tbAJ3gl95M\n",
       "n90z2PuCVYvQ53TlZQM2kxWmVdSBRP09qhoa+Gnmh6/whaAAAK2AAAAAaEGfkUURPBP/AAADAAEf\n",
       "4q+gAiFRsQTfGFj0F/ftiTLT//Q7sVkoxwwzaBcXaCFTupgwkv1F3nAxMicri0ykUZuRCikw+TgC\n",
       "6XJX0oy9AULCji6F/ot1/4lg00Qd+7DeL1EoVmgAAASNAAAAagGfsmpBLwAAAwABr3MWAUnXSxDn\n",
       "9yrFP2EuJeJWe5OKQVY0ACHMdv2nhdI368FaiPu1Pc9EmrSaA01Lz/3HaSxCV2EnO6H2583zAwZP\n",
       "h1Eou2BZ3J6hVDWVFY21193trdJ7TIWFy4AAAiYAAACMQZu0SahBaJlMCCv//talUAAAAwBvLlDp\n",
       "ACg6qRGu9/ZXIEMj0YtrE6VyJDKW7IsK2sbkUZhTC7ErQGHFc2z3fwegwoJOVsiB39gAF5GfJWWW\n",
       "IUwCo83Dk9a/MTUGsZx659GqlIy6CldSOS1WLclFmN/8hAOVqvpIyj9QtILsP9AQzs4s0l9BhAAA\n",
       "BnwAAACbQZvWSeEKUmUwURLBT/7WjLAAAAMA2n1DcGwAN3SSqlIr70wB0XL5wwUJSLkTH+k+2ydo\n",
       "HjgM1XzGcZONhiMi9L4X/pNgz0OxF+uuOmjdbVp6Gjzb3j+LXo+oVOpXhZbxO0ZiXSqgVxJwCN1/\n",
       "f8EeBbGInpoYE95zf4apC6rEqo3KUbouAABYrxBP2HIcfxTvtigRzBLMoAAAIeEAAAA0AZ/1akEv\n",
       "AAADAAGlUya+AMDG6KZ2jhoo8W/PFWB5JSf89hzYsN8lWdV//nh2dlmAAABqQAAAAM5Bm/pJ4Q6J\n",
       "lMCC3/7WpVAAAAMAAAMAJQ4u1Di8qNKUsq0h5gEnnII4I3nT1r/WZQ/wAFeg8VFE+jUtOcZawAAE\n",
       "fnC28Fz3nwaqjP/grX4ChOQtenlZYNCFH64ARbz86ZX5f9IA1vUBbucEmMKfbXfuXmq8VpVs8N+1\n",
       "43zYR0p5DLQtfzXwIrcj8gIP/ERjfrD25yYkCktKchTAeKGmOFi3hfBxI5xnBLtppFbpwKAMvsvl\n",
       "t6vy2LG2doXzaK1bZP9gov10k1IL4/9ZZgACZwAAAENBnhhFFTwU/wAAAwAAAwAAM1kHt+1msWIT\n",
       "k46JmRAfgJfhh7TLLDsqlHw/fTJNcZ4uuogoovkdeUJGj/h5VKstAAFJAAAALAGeN3RBLwAAAwAA\n",
       "AwAAjohzcabCUoln4Gh4QZ4GWtPGIYb4Ca9gAAADADPgAAAARgGeOWpBLwAAAwAAAwAACjYgdOua\n",
       "cNZKhSgRITAIi5LJgAJzPE3qmyPY5wwP/t9gc/Ojr8n+pORiSvCGHC25IwsJNkAAIeEAAACkQZo8\n",
       "SahBaJlMFPBb//7WpVAAAAMAAAMAAAMADGbg71b9xz+oAbhWjCNV5IMhOgV2hVE4bD4Sr7GP9p9+\n",
       "qGz9/Ud5iqArKO0+mTbzTn0E+SO9LhO6/13H+FICxqz60IxL+vtMKgomUOFP5RA7rS84WVpr0Tx3\n",
       "ZHtAoPr+efzFjWg5v/GWZcVoDTAwbtlExEqVn/bMSnQF4gqqi2AhvPErxWoy0RMAAABMAZ5bakEv\n",
       "AAADAAADAAADAAAvqmMcculToWnpuE+Gwt7wAOfvz/3/AQclrjJ+Cj7LyCCV5A5ZefA5NdEsPG5H\n",
       "k0+Kjof+A6nL0Dh1QQAAALFBmkBJ4QpSZTAgr//+1qVQAAADAAADAAADAA+b6E0ke1QA3f7RWHze\n",
       "9BGDu7KnIQHofWmH2l/HNYQrYbaYAaponYGVaSAFLkfymF6xC/31kKgjyIie5GRScjsTmwHR8hqm\n",
       "X8Ccomb5pZ4gTTsUQjGHVrVTzm0EFe2RtC5uI7FUxdywz8C2smhbOK6HBvD4OuO+IyutmAL1pyqj\n",
       "0x2M3RZNfVvGD9JoY4rLy15efZd6kvEAAABEQZ5+RTRMFP8AAAMAAAMAAAMAABYWUdmZijcYctdI\n",
       "wgYvTy8bA8vALgAW3p8gmD6kid9gDxG+t2zSHR1nlGDoHkcYDmgAAABBAZ6ddEEvAAADAAADAAAD\n",
       "AAA17coT7XL6HWlVkKDLRB/+Gxd+IATWSCf/jCGVXHlmKpKRSVe9VXoEFFzMao08C7gAAABQAZ6f\n",
       "akEvAAADAAADAAADAAA8qX52OBaZEdQXqnhElSQAOc3YJh3y6DvX7f1zwYa//9HgKdmwEUGBTlqU\n",
       "xMNYQpzH2c1Zo+sdxWERqCJ3D5kAAABcQZqBSahBaJlMCCv//talUAAAAwAAAwAAAwAAGC2YX8oT\n",
       "0RABGW/net+QPTtnFtOHD5VO+AZ7LjW/xsSm8HF8UddniImvuO8nBEWvW3gAAfTkp4lHRdqMD+JO\n",
       "idgAAABgQZqiSeEKUmUwILf//talUAAAAwAAAwAAAwAAFU/o0mUxdUPL/oEbmgAiA0iG2CPHH+s4\n",
       "QgZtxpvs80VeAhO6x4avlGYAHbDrczc4u+GanF/4Hd10an+q48Fe2UsITos5AAAAo0GaxUnhDomU\n",
       "wIK//talUAAAAwAAAwAAD671+apgf+AAjE3E/8FWjgT/WFrMCo+yt/jYlN4OjEPYy6dnfj7ob84j\n",
       "xcrrl1CLe+xoDSJMotM+3NEkzduoc32cc3wHbY/02/yEvdtCfs+cS3AUM72Yub7K1qWc1W8jHgq3\n",
       "Kfp639vm28cKBVrLUrlKtFaG2+hNyTYv82LTHWbR5Sp/obJedlRADZgAAABiQZ7jRRE8E/8AAAMA\n",
       "AAMAAAMAKTSTvGkJ2LhiHK269ewPHFedGOz4VAAzm5nNdsYCte5c08g3Pjz//osLM+XlhNQYjFvk\n",
       "g5tyPqJmeIAqCYFNapBE7dxmgxi/0WqIVH6QCbkAAABFAZ8EakEvAAADAAADAAADADypfnY3VpfD\n",
       "sE+TAAuk0x/8M+ZOhhVrhGiWK+Z+7yWw4Ib4xhplG01hytuEe6WjfW6wAIeBAAAASUGbBkmoQWiZ\n",
       "TAgr//7WpVAAAAMAAAMAAA1X1pabRwTX9ew8u1HI8hBKjxILsezFvxnajtXemY1eSUtQIAuJndxb\n",
       "ZK32bwwkaVEAAACFQZsnSeEKUmUwILf//talUAAAAwAO7FC6oIDL2xZQCHc4+o3fk/19eb0vhGCR\n",
       "pjRx2Q6Rr4tRIOAytWHGr2ZyMbCos3XVlQnsFSk8yiiHBzlSmrsQu5ePdUZzEKPfxsNxlnBBGkrR\n",
       "+jT76UfHSAPu0k9/hfgcxHbxHeZ1DcMUi3lgAAAK+QAAALZBm0tJ4Q6JlMCCv/7WpVAAAAMADuxQ\n",
       "zUnkDmNwv/RuAS1yFKLi4HuoSccdFmtBFXg5ElkqHcwnJ/VoWRpRgAAAdVMnzKKWgUNdB3262U8Y\n",
       "ZkVw+nrOUHyszGZ5Tj08ejQkHRjZq/qT541SjrQOgGKkWgEmyBmVqlU98gxzuA8YOoWJgqflwnBV\n",
       "lm9II8DVjkL7o4bpAA54FmdO8DVa3D7ohy538wtGJBg4KHGFBq1SQFg8O9AKSAAAAG5Bn2lFETwU\n",
       "/wAAAwAAAwAAI5WtTAazWLCyjstG5/7UkZOuoADrnTLzteoC0j3+MGOxy1QZ/0xeWiM4ks5dyY4T\n",
       "AlHR76i5H0g9/XH/XnLGjDhXCjqhPWDWvyYrw+7gbg/gW2KOsgJirxJP8CQBvQAAAEIBn4h0QS8A\n",
       "AAMAAAMAAGRblCfavIW6gWvGSNv9z4CCqRqg/LYAAAdnKAsG0//jlThAf2u9F36xUORDhAAcysAA\n",
       "WkEAAABoAZ+KakEvAAADAAADAAAI6T7SCKjzO0F57LgN7V0YXFiDBiPanbRN0x6b7wevEvbXR9ll\n",
       "5tAB2m8NcfmUCMT3nhr0elio8qf/1FhZnpJ0KYFObAuCaHd+4UEr4g0Q8+66a/9hQJcqHdAAAAB2\n",
       "QZuMSahBaJlMCCv//talUAAAAwAAAwACUK5LZbBACBYz6ne3O8Dsyt0hCALH+hX7WlYACl6P/htR\n",
       "vN5/8BeAUOw5avHMMTe9XiTnU5kOxEtvdutNuZnuePQ3H1osPPA5vzOJuqJK2m3Q2mKsABVG/gqI\n",
       "oXbCLgAAAMdBm65J4QpSZTBREsFf/talUAAAV3kX/jOh/UAH9bwd9uam2xfpDIdI18WokHAa7Rv6\n",
       "hKAvNHn5vXPvJ/JVKTzKKIcHOVKauxE8jfUxEaQK27yQRpxpPwaAL7XfxFQMkN0vI/RgYahzgsEc\n",
       "j8gdzhFzCcsltTkquvQ1DaQUFRAADVYTz+5DVuDKjTPn0xlgdmlSdXA3/4e7ZRNxYzHqE3hrVCF6\n",
       "rkrUrBYpIxdsAKhKepNGSxeqJWstRpJnpTiovQG4orDNgAK3AAAAQgGfzWpBLwAAAwFP3+kZBXLf\n",
       "gfR0owb48Q2zHV/4AMAHRTWLgu4Ng+RKE780QDADVhNbhAbkUYAXvtwu64Hz90ACJwAAAOlBm9FJ\n",
       "4Q6JlMCCX/61KoAAPVuP6JKHIcQAg4qyNIzXvwD3K57g3BqnRrCHw4RuuZTvFunwBi3Q1yFKLpc0\n",
       "jpBUYrHyFq1u62sFYkOnys//NzqfpvbMcAaKxSka+JidQaCwJfDgNBF0M6xLSHO1elWQXwAJJJ4l\n",
       "oVSb0xu0hwyXc7AfbZ0NmxncOY6Ui8Hmmde8CqP/+1IUDtb88b39dyHfhP18+sVQAAHCT/pznALQ\n",
       "mHUAAAMCkZ4sZp19qGBy000hujyJtS7SIq2pxL2JnZUgpqY1VfprP8hgUO+CtbWOhvao328JPr8C\n",
       "PwAAAFZBn+9FFTwT/wAAFJpJ3jSFUDvFZiY5a/D+bcxLC76X28+i9wWqyffPMArkAATPcEgAEIir\n",
       "RjmQlEyOa8SctuTjPE0/6iCJnGu5DC9RAPqZ44JWtgDegAAAAEMBnhBqQS8AAB5XJdfurlvwPo6U\n",
       "ZKqCkayhcySzMpXnogAEMiGsQdbmXjrMrmueJRAIANCBfTikC9gBNQezZDwbsBLwAAAFU21vb3YA\n",
       "AABsbXZoZAAAAAAAAAAAAAAAAAAAA+gAAGGoAAEAAAEAAAAAAAAAAAAAAAABAAAAAAAAAAAAAAAA\n",
       "AAAAAQAAAAAAAAAAAAAAAAAAQAAAAAAAAAAAAAAAAAAAAAAAAAAAAAAAAAAAAAAAAAIAAAR+dHJh\n",
       "awAAAFx0a2hkAAAAAwAAAAAAAAAAAAAAAQAAAAAAAGGoAAAAAAAAAAAAAAAAAAAAAAABAAAAAAAA\n",
       "AAAAAAAAAAAAAQAAAAAAAAAAAAAAAAAAQAAAAALuAAAC7gAAAAAAJGVkdHMAAAAcZWxzdAAAAAAA\n",
       "AAABAABhqAAAQAAAAQAAAAAD9m1kaWEAAAAgbWRoZAAAAAAAAAAAAAAAAAAAQAAABkAAVcQAAAAA\n",
       "AC1oZGxyAAAAAAAAAAB2aWRlAAAAAAAAAAAAAAAAVmlkZW9IYW5kbGVyAAAAA6FtaW5mAAAAFHZt\n",
       "aGQAAAABAAAAAAAAAAAAAAAkZGluZgAAABxkcmVmAAAAAAAAAAEAAAAMdXJsIAAAAAEAAANhc3Ri\n",
       "bAAAALlzdHNkAAAAAAAAAAEAAACpYXZjMQAAAAAAAAABAAAAAAAAAAAAAAAAAAAAAALuAu4ASAAA\n",
       "AEgAAAAAAAAAAQAAAAAAAAAAAAAAAAAAAAAAAAAAAAAAAAAAAAAAAAAAABj//wAAADdhdmNDAWQA\n",
       "H//hABpnZAAfrNlAvBf6qEAAAAMAQAAAAwEDxgxlgAEABmjr48siwP34+AAAAAAcdXVpZGtoQPJf\n",
       "JE/FujmlG88DI/MAAAAAAAAAGHN0dHMAAAAAAAAAAQAAADIAACAAAAAAFHN0c3MAAAAAAAAAAQAA\n",
       "AAEAAAFoY3R0cwAAAAAAAAArAAAAAQAAQAAAAAABAABgAAAAAAEAACAAAAAAAQAAQAAAAAABAACA\n",
       "AAAAAAIAACAAAAAAAgAAQAAAAAABAABgAAAAAAEAACAAAAAAAQAAYAAAAAABAAAgAAAAAAEAAGAA\n",
       "AAAAAQAAIAAAAAABAABgAAAAAAEAACAAAAAAAQAAgAAAAAACAAAgAAAAAAEAAEAAAAAAAQAAYAAA\n",
       "AAABAAAgAAAAAAEAAKAAAAAAAQAAQAAAAAABAAAAAAAAAAEAACAAAAAAAQAAYAAAAAABAAAgAAAA\n",
       "AAEAAKAAAAAAAQAAQAAAAAABAAAAAAAAAAEAACAAAAAAAgAAQAAAAAABAACAAAAAAAIAACAAAAAA\n",
       "AgAAQAAAAAABAACgAAAAAAEAAEAAAAAAAQAAAAAAAAABAAAgAAAAAAEAAEAAAAAAAQAAYAAAAAAB\n",
       "AAAgAAAAAAEAAIAAAAAAAgAAIAAAAAAcc3RzYwAAAAAAAAABAAAAAQAAADIAAAABAAAA3HN0c3oA\n",
       "AAAAAAAAAAAAADIAAAQGAAAAfwAAADcAAACrAAAA7AAAAFMAAABGAAAAfAAAAJYAAACPAAAAVAAA\n",
       "AIAAAAAwAAAARQAAADIAAABKAAAAMwAAAM0AAABsAAAAbgAAAJAAAACfAAAAOAAAANIAAABHAAAA\n",
       "MAAAAEoAAACoAAAAUAAAALUAAABIAAAARQAAAFQAAABgAAAAZAAAAKcAAABmAAAASQAAAE0AAACJ\n",
       "AAAAugAAAHIAAABGAAAAbAAAAHoAAADLAAAARgAAAO0AAABaAAAARwAAABRzdGNvAAAAAAAAAAEA\n",
       "AAAwAAAAYXVkdGEAAABZbWV0YQAAAAAAAAAhaGRscgAAAAAAAAAAbWRpcmFwcGwAAAAAAAAAAAAA\n",
       "AAAsaWxzdAAAACSpdG9vAAAAHGRhdGEAAAABAAAAAExhdmY2MS43LjEwMA==\n",
       "\">\n",
       "  Your browser does not support the video tag.\n",
       "</video>"
      ],
      "text/plain": [
       "<IPython.core.display.HTML object>"
      ]
     },
     "execution_count": 662,
     "metadata": {},
     "output_type": "execute_result"
    }
   ],
   "source": [
    "figsize = 5\n",
    "size = 7\n",
    "\n",
    "def image(maze):\n",
    "    img = plt.imshow(maze, cmap='binary', animated=True)\n",
    "    plt.axis('off')\n",
    "\n",
    "    return img\n",
    "\n",
    "def images(size):\n",
    "    images = []\n",
    "\n",
    "    maze = np.ones((size*2+1, size*2+1))\n",
    "\n",
    "    x, y = (0, 0)\n",
    "    maze[2*x+1, 2*y+1] = 0\n",
    "\n",
    "    stack = [(x, y)]\n",
    "\n",
    "    images.append([image(maze)])\n",
    "\n",
    "    while stack:\n",
    "        x, y = stack[-1]\n",
    "\n",
    "        directions = [(1, 0), (-1, 0), (0, -1), (0, 1)]\n",
    "\n",
    "        np.random.shuffle(directions)\n",
    "\n",
    "        for dx, dy in directions:\n",
    "\n",
    "            nx, ny = x + dx, y + dy\n",
    "\n",
    "            if nx >= 0 and ny >= 0 and nx < size and ny < size and maze[2*nx+1, 2*ny+1] == 1:\n",
    "                maze[2*nx+1, 2*ny+1] = 0\n",
    "                maze[2*x+1+dx, 2*y+1+dy] = 0\n",
    "                stack.append((nx, ny))\n",
    "                images.append([image(maze)])\n",
    "                break\n",
    "        else:\n",
    "            stack.pop()\n",
    "\n",
    "    maze[0, 1] = 0\n",
    "    maze[-1, -2] = 0\n",
    "\n",
    "    images.append([image(maze)])\n",
    "\n",
    "    return images\n",
    "\n",
    "fig = plt.figure(figsize=(figsize, figsize))\n",
    "\n",
    "a = ani.ArtistAnimation(fig, images(size), interval=500)\n",
    "\n",
    "html = a.to_html5_video()\n",
    "\n",
    "plt.close(fig)\n",
    "\n",
    "HTML(html)"
   ]
  },
  {
   "cell_type": "markdown",
   "metadata": {},
   "source": [
    "---\n",
    "\n",
    "### Exercise 2a\n",
    "\n",
    "What would happen if we removed the line\n",
    "\n",
    "```python\n",
    "maze[2*x+1+dx, 2*y+1+dy] = 0\n",
    "```\n",
    "\n",
    "### Exercise 2b\n",
    "\n",
    "What would happen if we removed the line\n",
    "\n",
    "```python\n",
    "np.random.shuffle(directions)\n",
    "```\n",
    "\n",
    "(observe the order in which the `directions` are defined)"
   ]
  },
  {
   "cell_type": "markdown",
   "metadata": {},
   "source": [
    "---\n",
    "\n",
    "Now, we create a labyrinth. If you thought through question 2b, this should be an easy problem initially. (This labyrinth is a [hamiltonian path](https://math.stackexchange.com/questions/1699203/hamilton-paths-cycles-in-grid-graphs) with the added contraint that it must start at the top left and end in the bottom right)\n",
    "\n",
    "So, we just need to remove the shuffling line. \n"
   ]
  },
  {
   "cell_type": "code",
   "execution_count": 800,
   "metadata": {},
   "outputs": [],
   "source": [
    "def labyrinth(size):\n",
    "    maze = np.ones((size*2+1, size*2+1))\n",
    "\n",
    "    x, y = (0, 0)\n",
    "    maze[2*x+1, 2*y+1] = 0\n",
    "\n",
    "    stack = [(x, y)]\n",
    "\n",
    "    while stack:\n",
    "        x, y = stack[-1]\n",
    "\n",
    "        directions = [(1, 0), (-1, 0), (0, -1), (0, 1)]\n",
    "\n",
    "        # remove shuffling\n",
    "        # np.random.shuffle(directions)\n",
    "\n",
    "        for dx, dy in directions:\n",
    "\n",
    "            nx, ny = x + dx, y + dy\n",
    "\n",
    "            if nx >= 0 and ny >= 0 and nx < size and ny < size and maze[2*nx+1, 2*ny+1] == 1:\n",
    "                maze[2*nx+1, 2*ny+1] = 0\n",
    "                maze[2*x+1+dx, 2*y+1+dy] = 0\n",
    "                stack.append((nx, ny))\n",
    "                break\n",
    "        else:\n",
    "            stack.pop()\n",
    "\n",
    "    maze[0, 1] = 0\n",
    "    maze[-1, -2] = 0\n",
    "\n",
    "    return maze"
   ]
  },
  {
   "cell_type": "code",
   "execution_count": 801,
   "metadata": {},
   "outputs": [
    {
     "data": {
      "image/png": "[encoded data removed]",
      "text/plain": [
       "<Figure size 750x750 with 1 Axes>"
      ]
     },
     "metadata": {},
     "output_type": "display_data"
    }
   ],
   "source": [
    "draw(labyrinth(19))"
   ]
  },
  {
   "cell_type": "markdown",
   "metadata": {},
   "source": [
    "Though this is a labyrinth, it isn't very interesting. We can make some very simple changes to create slightly more interesting labyrinths. Here is an example of one iteration of a modification to create a more interesting labyrinth. In essence, this generates a horizontal wall to split the column into a valid path and a loop. It then reconnects the loop to extend the hamiltonian path and ensure it is still valid. "
   ]
  },
  {
   "cell_type": "code",
   "execution_count": 819,
   "metadata": {},
   "outputs": [],
   "source": [
    "def labyrinth(size):\n",
    "    maze = np.ones((size*2+1, size*2+1))\n",
    "\n",
    "    x, y = (0, 0)\n",
    "    maze[2*x+1, 2*y+1] = 0\n",
    "\n",
    "    stack = [(x, y)]\n",
    "\n",
    "    while stack:\n",
    "        x, y = stack[-1]\n",
    "\n",
    "        directions = [(1, 0), (-1, 0), (0, -1), (0, 1)]\n",
    "\n",
    "        for dx, dy in directions:\n",
    "\n",
    "            nx, ny = x + dx, y + dy\n",
    "\n",
    "            if nx >= 0 and ny >= 0 and nx < size and ny < size and maze[2*nx+1, 2*ny+1] == 1:\n",
    "                maze[2*nx+1, 2*ny+1] = 0\n",
    "                maze[2*x+1+dx, 2*y+1+dy] = 0\n",
    "                stack.append((nx, ny))\n",
    "                break\n",
    "        else:\n",
    "            stack.pop()\n",
    "\n",
    "    maze[0, 1] = 0\n",
    "    maze[-1, -2] = 0\n",
    "\n",
    "    # new code starts here\n",
    "\n",
    "    for y in range(0, 2, 2):\n",
    "    \n",
    "        while True:\n",
    "            x, y = random.randint(2, size-2) * 2, y * 2 + 1\n",
    "\n",
    "            if maze[x, y + 1] == 1:\n",
    "                nx, ny = random.randint(x // 2 + 1, size - 1) * 2, y + 2\n",
    "\n",
    "                # break the labyrinth and create the loop\n",
    "                maze[x + 1, y + 1] = 0\n",
    "                maze[x - 1, y + 1] = 0\n",
    "                maze[x, y] = 1\n",
    "                maze[x, y + 2] = 1\n",
    "\n",
    "                # reconnect the loop and the rest of the labyrinth\n",
    "                maze[nx + 1, ny + 1] = 0\n",
    "                maze[nx - 1, ny + 1] = 0\n",
    "                maze[nx, ny] = 1\n",
    "                maze[nx, ny + 2] = 1\n",
    "\n",
    "                break\n",
    "\n",
    "    return maze"
   ]
  },
  {
   "cell_type": "code",
   "execution_count": 831,
   "metadata": {},
   "outputs": [
    {
     "data": {
      "image/png": "[encoded data removed]",
      "text/plain": [
       "<Figure size 750x750 with 1 Axes>"
      ]
     },
     "metadata": {},
     "output_type": "display_data"
    }
   ],
   "source": [
    "draw(labyrinth(19))"
   ]
  },
  {
   "cell_type": "markdown",
   "metadata": {},
   "source": [
    "---\n",
    "\n",
    "### Exercise 3\n",
    "\n",
    "You'll see that this creates a labyrinth with two modified walls for some extra twists. Modify one number in the code to create a (slightly) more interesting labyrinth that has a few more modified walls."
   ]
  },
  {
   "cell_type": "code",
   "execution_count": 822,
   "metadata": {},
   "outputs": [],
   "source": [
    "def labyrinth(size):\n",
    "    maze = np.ones((size*2+1, size*2+1))\n",
    "\n",
    "    x, y = (0, 0)\n",
    "    maze[2*x+1, 2*y+1] = 0\n",
    "\n",
    "    stack = [(x, y)]\n",
    "\n",
    "    while stack:\n",
    "        x, y = stack[-1]\n",
    "\n",
    "        directions = [(1, 0), (-1, 0), (0, -1), (0, 1)]\n",
    "\n",
    "        for dx, dy in directions:\n",
    "\n",
    "            nx, ny = x + dx, y + dy\n",
    "\n",
    "            if nx >= 0 and ny >= 0 and nx < size and ny < size and maze[2*nx+1, 2*ny+1] == 1:\n",
    "                maze[2*nx+1, 2*ny+1] = 0\n",
    "                maze[2*x+1+dx, 2*y+1+dy] = 0\n",
    "                stack.append((nx, ny))\n",
    "                break\n",
    "        else:\n",
    "            stack.pop()\n",
    "\n",
    "    maze[0, 1] = 0\n",
    "    maze[-1, -2] = 0\n",
    "\n",
    "    # new code starts here\n",
    "    # modify one number below\n",
    "\n",
    "    for y in range(0, 2, 2):\n",
    "    \n",
    "        while True:\n",
    "            x, y = random.randint(2, size-2) * 2, y * 2 + 1\n",
    "\n",
    "            if maze[x, y + 1] == 1:\n",
    "                nx, ny = random.randint(x // 2 + 1, size - 1) * 2, y + 2\n",
    "\n",
    "                maze[x + 1, y + 1] = 0\n",
    "                maze[x - 1, y + 1] = 0\n",
    "                maze[x, y] = 1\n",
    "                maze[x, y + 2] = 1\n",
    "\n",
    "                maze[nx + 1, ny + 1] = 0\n",
    "                maze[nx - 1, ny + 1] = 0\n",
    "                maze[nx, ny] = 1\n",
    "                maze[nx, ny + 2] = 1\n",
    "                \n",
    "                break\n",
    "\n",
    "    return maze"
   ]
  },
  {
   "cell_type": "code",
   "execution_count": 830,
   "metadata": {},
   "outputs": [
    {
     "data": {
      "image/png": "[encoded data removed]",
      "text/plain": [
       "<Figure size 750x750 with 1 Axes>"
      ]
     },
     "metadata": {},
     "output_type": "display_data"
    }
   ],
   "source": [
    "draw(labyrinth(19))"
   ]
  },
  {
   "cell_type": "markdown",
   "metadata": {},
   "source": [
    "---\n",
    "\n",
    "### Exercise 4\n",
    "\n",
    "You'll see that this is still not THAT interesting. If you want, find another way to create a more interesting labyrinth, or improve upon the current code. Implement your solution below. :D"
   ]
  },
  {
   "cell_type": "code",
   "execution_count": null,
   "metadata": {},
   "outputs": [],
   "source": []
  },
  {
   "cell_type": "markdown",
   "metadata": {},
   "source": [
    "---\n",
    "## Solutions\n",
    "\n",
    "### Exercise 1\n",
    "```python\n",
    "for i in range(matrix.shape[0]): # loop through rows\n",
    "    for j in range(matrix.shape[1]): # loop thrgouh columns\n",
    "        if np.random.random() > .5: # 50 % chance of creating an empty cell\n",
    "            matrix[i, j] = 0 # make the cell empty\n",
    "```\n",
    "\n",
    "### Exercise 2a\n",
    "we would get exactly the grid of empty cells surrounded by 1-thick walls\n",
    "### Exercise 2b\n",
    "We would get a vertically zig-zagging labyrinth (for odd numbered sizes)\n",
    "\n",
    "\n",
    "### Exercise 3\n",
    "Modify this line\n",
    "```python\n",
    "for y in range(0, size - 1, 2):\n",
    "```\n",
    "\n",
    "### Exercise 4\n",
    "solutions vary"
   ]
  },
  {
   "cell_type": "markdown",
   "metadata": {},
   "source": []
  }
 ],
 "metadata": {
  "kernelspec": {
   "display_name": "Python 3",
   "language": "python",
   "name": "python3"
  },
  "language_info": {
   "codemirror_mode": {
    "name": "ipython",
    "version": 3
   },
   "file_extension": ".py",
   "mimetype": "text/x-python",
   "name": "python",
   "nbconvert_exporter": "python",
   "pygments_lexer": "ipython3",
   "version": "3.12.5"
  }
 },
 "nbformat": 4,
 "nbformat_minor": 4
}
